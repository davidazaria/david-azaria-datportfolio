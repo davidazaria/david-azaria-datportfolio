{
 "cells": [
  {
   "cell_type": "markdown",
   "metadata": {},
   "source": [
    "# Final Project - Insights Into 2016\n",
    "\n",
    "The outcome of the 2016 presidential election caught a lot of people by surprise, probably no group more than Hillary's Clinton campaign team. That might seem like the understatement of the century, and perhaps we are ready to annoint that statement as such only seventeen years in.\n",
    "\n",
    "The primary focus here started with the following question: \"Well, what went wrong exactly?\". I would be lying, or spreading \"alternative facts\", if I did not admit that dozens upon dozens of organizations are studying this very same quesiton. Luckily for them, there is probably never going to be a source of truth to this question, so their job security should not be at all in jeopardy. Even NAFTA could not touch this one! \n",
    "\n",
    "Now, each person/organization should ideally, at the very least, try to throw some personal spin on their analysis. Otherwise there goes that job security I was advocated about. Speaking of \"job\", coming from a healthcare data company, and as an incredibly avid news junkie, I could not help but notice how much the ACA's (ongoing) price increases on the individual < 65 market made its way into the news during the months, weeks, and days leading into the election. \n",
    "\n",
    "So I asked myself, in lieu of former Speaker of the House Tip O'Neill's oft-quoted, well, quote, \"All politics is local\": \"Let's say something went wrong. Could the price increases in individual plans sold on the marketplace possibility have contributed to Trump flipping a county from Obama to Hillary?\"      \n",
    "\n",
    "Cutting to the chase: what I ended up learning was, not surprisingly, there really was no source of predictive truth. I tried my damnest to flex the truth out of my models, and maybe there are some things that cannot be preidcted. Neverteless, I had fun doing so! \n",
    "\n",
    "A bit about the datasets. One ['votes.csv'] is from Kaggle, and the second ['aca151617indiv.csv'] is from employer; however, this was publicly available information, so there should not be any proprietary issues at play here. That said, what I wanted to do for this project was normalize the data to binary values, 0 & 1. In future iterations I would like to futz with the model a bit more to predict either Donald Trump's or Hillary Clinton's vote percentage -- stay tuned for those. But for now it's kept simple, if for nothing else to just highlight some basic insights.  \n",
    "\n",
    "Let's get started!"
   ]
  },
  {
   "cell_type": "code",
   "execution_count": 1,
   "metadata": {
    "collapsed": true
   },
   "outputs": [],
   "source": [
    "import numpy as np\n",
    "import pandas as pd "
   ]
  },
  {
   "cell_type": "code",
   "execution_count": 2,
   "metadata": {
    "collapsed": true
   },
   "outputs": [],
   "source": [
    "aca = pd.read_csv('Desktop/aca151617indv.csv')\n",
    "votes = pd.read_csv('Desktop/votes.csv')"
   ]
  },
  {
   "cell_type": "code",
   "execution_count": 3,
   "metadata": {
    "collapsed": false
   },
   "outputs": [
    {
     "data": {
      "text/html": [
       "<div>\n",
       "<table border=\"1\" class=\"dataframe\">\n",
       "  <thead>\n",
       "    <tr style=\"text-align: right;\">\n",
       "      <th></th>\n",
       "      <th>year</th>\n",
       "      <th>state_code</th>\n",
       "      <th>county_name</th>\n",
       "      <th>fips</th>\n",
       "      <th>price_avg</th>\n",
       "    </tr>\n",
       "  </thead>\n",
       "  <tbody>\n",
       "    <tr>\n",
       "      <th>0</th>\n",
       "      <td>2015</td>\n",
       "      <td>AK</td>\n",
       "      <td>Aleutians East Borough</td>\n",
       "      <td>2013</td>\n",
       "      <td>431.688889</td>\n",
       "    </tr>\n",
       "    <tr>\n",
       "      <th>1</th>\n",
       "      <td>2015</td>\n",
       "      <td>AK</td>\n",
       "      <td>Aleutians West Census Area</td>\n",
       "      <td>2016</td>\n",
       "      <td>430.603175</td>\n",
       "    </tr>\n",
       "    <tr>\n",
       "      <th>2</th>\n",
       "      <td>2015</td>\n",
       "      <td>AK</td>\n",
       "      <td>Anchorage Municipality</td>\n",
       "      <td>2020</td>\n",
       "      <td>434.017921</td>\n",
       "    </tr>\n",
       "    <tr>\n",
       "      <th>3</th>\n",
       "      <td>2015</td>\n",
       "      <td>AK</td>\n",
       "      <td>Bethel Census Area</td>\n",
       "      <td>2050</td>\n",
       "      <td>430.000000</td>\n",
       "    </tr>\n",
       "    <tr>\n",
       "      <th>4</th>\n",
       "      <td>2015</td>\n",
       "      <td>AK</td>\n",
       "      <td>Bristol Bay Borough</td>\n",
       "      <td>2060</td>\n",
       "      <td>427.888889</td>\n",
       "    </tr>\n",
       "    <tr>\n",
       "      <th>5</th>\n",
       "      <td>2015</td>\n",
       "      <td>AK</td>\n",
       "      <td>Denali Borough</td>\n",
       "      <td>2068</td>\n",
       "      <td>427.888889</td>\n",
       "    </tr>\n",
       "    <tr>\n",
       "      <th>6</th>\n",
       "      <td>2015</td>\n",
       "      <td>AK</td>\n",
       "      <td>Dillingham Census Area</td>\n",
       "      <td>2070</td>\n",
       "      <td>431.507937</td>\n",
       "    </tr>\n",
       "    <tr>\n",
       "      <th>7</th>\n",
       "      <td>2015</td>\n",
       "      <td>AK</td>\n",
       "      <td>Fairbanks North Star Borough</td>\n",
       "      <td>2090</td>\n",
       "      <td>427.888889</td>\n",
       "    </tr>\n",
       "    <tr>\n",
       "      <th>8</th>\n",
       "      <td>2015</td>\n",
       "      <td>AK</td>\n",
       "      <td>Haines Borough</td>\n",
       "      <td>2100</td>\n",
       "      <td>415.333333</td>\n",
       "    </tr>\n",
       "    <tr>\n",
       "      <th>9</th>\n",
       "      <td>2015</td>\n",
       "      <td>AK</td>\n",
       "      <td>Hoonah-Angoon Census Area</td>\n",
       "      <td>2105</td>\n",
       "      <td>415.333333</td>\n",
       "    </tr>\n",
       "  </tbody>\n",
       "</table>\n",
       "</div>"
      ],
      "text/plain": [
       "   year state_code                   county_name  fips   price_avg\n",
       "0  2015         AK        Aleutians East Borough  2013  431.688889\n",
       "1  2015         AK    Aleutians West Census Area  2016  430.603175\n",
       "2  2015         AK        Anchorage Municipality  2020  434.017921\n",
       "3  2015         AK            Bethel Census Area  2050  430.000000\n",
       "4  2015         AK           Bristol Bay Borough  2060  427.888889\n",
       "5  2015         AK                Denali Borough  2068  427.888889\n",
       "6  2015         AK        Dillingham Census Area  2070  431.507937\n",
       "7  2015         AK  Fairbanks North Star Borough  2090  427.888889\n",
       "8  2015         AK                Haines Borough  2100  415.333333\n",
       "9  2015         AK     Hoonah-Angoon Census Area  2105  415.333333"
      ]
     },
     "execution_count": 3,
     "metadata": {},
     "output_type": "execute_result"
    }
   ],
   "source": [
    "#Let's take a peak inside! \n",
    "aca.head(10)"
   ]
  },
  {
   "cell_type": "code",
   "execution_count": 4,
   "metadata": {
    "collapsed": false
   },
   "outputs": [
    {
     "data": {
      "text/html": [
       "<div>\n",
       "<table border=\"1\" class=\"dataframe\">\n",
       "  <thead>\n",
       "    <tr style=\"text-align: right;\">\n",
       "      <th></th>\n",
       "      <th>Unnamed: 0</th>\n",
       "      <th>X</th>\n",
       "      <th>combined_fips</th>\n",
       "      <th>votes_dem_2016</th>\n",
       "      <th>votes_gop_2016</th>\n",
       "      <th>total_votes_2016</th>\n",
       "      <th>Clinton</th>\n",
       "      <th>Trump</th>\n",
       "      <th>diff_2016</th>\n",
       "      <th>per_point_diff_2016</th>\n",
       "      <th>...</th>\n",
       "      <th>AFN120207</th>\n",
       "      <th>BPS030214</th>\n",
       "      <th>LND110210</th>\n",
       "      <th>Density</th>\n",
       "      <th>Clinton_Obama</th>\n",
       "      <th>Trump_Romney</th>\n",
       "      <th>Trump_Prediction</th>\n",
       "      <th>Clinton_Prediction</th>\n",
       "      <th>Trump_Deviation</th>\n",
       "      <th>Clinton_Deviation</th>\n",
       "    </tr>\n",
       "  </thead>\n",
       "  <tbody>\n",
       "    <tr>\n",
       "      <th>0</th>\n",
       "      <td>30</td>\n",
       "      <td>29</td>\n",
       "      <td>1001</td>\n",
       "      <td>5908</td>\n",
       "      <td>18110</td>\n",
       "      <td>24661</td>\n",
       "      <td>0.239569</td>\n",
       "      <td>0.734358</td>\n",
       "      <td>12202</td>\n",
       "      <td>-0.494789</td>\n",
       "      <td>...</td>\n",
       "      <td>88157</td>\n",
       "      <td>131</td>\n",
       "      <td>594.44</td>\n",
       "      <td>91.8</td>\n",
       "      <td>-0.026189</td>\n",
       "      <td>0.008021</td>\n",
       "      <td>0.620859</td>\n",
       "      <td>0.340493</td>\n",
       "      <td>-0.113499</td>\n",
       "      <td>0.100924</td>\n",
       "    </tr>\n",
       "    <tr>\n",
       "      <th>1</th>\n",
       "      <td>31</td>\n",
       "      <td>30</td>\n",
       "      <td>1003</td>\n",
       "      <td>18409</td>\n",
       "      <td>72780</td>\n",
       "      <td>94090</td>\n",
       "      <td>0.195653</td>\n",
       "      <td>0.773515</td>\n",
       "      <td>54371</td>\n",
       "      <td>-0.577862</td>\n",
       "      <td>...</td>\n",
       "      <td>436955</td>\n",
       "      <td>1384</td>\n",
       "      <td>1589.78</td>\n",
       "      <td>114.6</td>\n",
       "      <td>-0.020013</td>\n",
       "      <td>-0.000383</td>\n",
       "      <td>0.586749</td>\n",
       "      <td>0.359502</td>\n",
       "      <td>-0.186766</td>\n",
       "      <td>0.163849</td>\n",
       "    </tr>\n",
       "    <tr>\n",
       "      <th>2</th>\n",
       "      <td>32</td>\n",
       "      <td>31</td>\n",
       "      <td>1005</td>\n",
       "      <td>4848</td>\n",
       "      <td>5431</td>\n",
       "      <td>10390</td>\n",
       "      <td>0.466603</td>\n",
       "      <td>0.522714</td>\n",
       "      <td>583</td>\n",
       "      <td>-0.056112</td>\n",
       "      <td>...</td>\n",
       "      <td>0</td>\n",
       "      <td>8</td>\n",
       "      <td>884.88</td>\n",
       "      <td>31.0</td>\n",
       "      <td>-0.045920</td>\n",
       "      <td>0.039339</td>\n",
       "      <td>0.517832</td>\n",
       "      <td>0.474693</td>\n",
       "      <td>-0.004882</td>\n",
       "      <td>0.008090</td>\n",
       "    </tr>\n",
       "    <tr>\n",
       "      <th>3</th>\n",
       "      <td>33</td>\n",
       "      <td>32</td>\n",
       "      <td>1007</td>\n",
       "      <td>1874</td>\n",
       "      <td>6733</td>\n",
       "      <td>8748</td>\n",
       "      <td>0.214220</td>\n",
       "      <td>0.769662</td>\n",
       "      <td>4859</td>\n",
       "      <td>-0.555441</td>\n",
       "      <td>...</td>\n",
       "      <td>10757</td>\n",
       "      <td>19</td>\n",
       "      <td>622.58</td>\n",
       "      <td>36.8</td>\n",
       "      <td>-0.047965</td>\n",
       "      <td>0.038998</td>\n",
       "      <td>0.692227</td>\n",
       "      <td>0.286031</td>\n",
       "      <td>-0.077434</td>\n",
       "      <td>0.071811</td>\n",
       "    </tr>\n",
       "    <tr>\n",
       "      <th>4</th>\n",
       "      <td>34</td>\n",
       "      <td>33</td>\n",
       "      <td>1009</td>\n",
       "      <td>2150</td>\n",
       "      <td>22808</td>\n",
       "      <td>25384</td>\n",
       "      <td>0.084699</td>\n",
       "      <td>0.898519</td>\n",
       "      <td>20658</td>\n",
       "      <td>-0.813820</td>\n",
       "      <td>...</td>\n",
       "      <td>20941</td>\n",
       "      <td>3</td>\n",
       "      <td>644.78</td>\n",
       "      <td>88.9</td>\n",
       "      <td>-0.038779</td>\n",
       "      <td>0.033590</td>\n",
       "      <td>0.789649</td>\n",
       "      <td>0.177490</td>\n",
       "      <td>-0.108870</td>\n",
       "      <td>0.092791</td>\n",
       "    </tr>\n",
       "    <tr>\n",
       "      <th>5</th>\n",
       "      <td>35</td>\n",
       "      <td>34</td>\n",
       "      <td>1011</td>\n",
       "      <td>3530</td>\n",
       "      <td>1139</td>\n",
       "      <td>4701</td>\n",
       "      <td>0.750904</td>\n",
       "      <td>0.242289</td>\n",
       "      <td>2391</td>\n",
       "      <td>0.508615</td>\n",
       "      <td>...</td>\n",
       "      <td>3670</td>\n",
       "      <td>1</td>\n",
       "      <td>622.81</td>\n",
       "      <td>17.5</td>\n",
       "      <td>-0.012165</td>\n",
       "      <td>0.007238</td>\n",
       "      <td>0.445269</td>\n",
       "      <td>0.572216</td>\n",
       "      <td>0.202980</td>\n",
       "      <td>-0.178688</td>\n",
       "    </tr>\n",
       "    <tr>\n",
       "      <th>6</th>\n",
       "      <td>36</td>\n",
       "      <td>35</td>\n",
       "      <td>1013</td>\n",
       "      <td>3716</td>\n",
       "      <td>4891</td>\n",
       "      <td>8685</td>\n",
       "      <td>0.427864</td>\n",
       "      <td>0.563155</td>\n",
       "      <td>1175</td>\n",
       "      <td>-0.135291</td>\n",
       "      <td>...</td>\n",
       "      <td>28427</td>\n",
       "      <td>2</td>\n",
       "      <td>776.83</td>\n",
       "      <td>27.0</td>\n",
       "      <td>-0.032644</td>\n",
       "      <td>0.027354</td>\n",
       "      <td>0.522492</td>\n",
       "      <td>0.463313</td>\n",
       "      <td>-0.040663</td>\n",
       "      <td>0.035449</td>\n",
       "    </tr>\n",
       "    <tr>\n",
       "      <th>7</th>\n",
       "      <td>37</td>\n",
       "      <td>36</td>\n",
       "      <td>1015</td>\n",
       "      <td>13197</td>\n",
       "      <td>32803</td>\n",
       "      <td>47376</td>\n",
       "      <td>0.278559</td>\n",
       "      <td>0.692397</td>\n",
       "      <td>19606</td>\n",
       "      <td>-0.413838</td>\n",
       "      <td>...</td>\n",
       "      <td>186533</td>\n",
       "      <td>114</td>\n",
       "      <td>605.87</td>\n",
       "      <td>195.7</td>\n",
       "      <td>-0.056649</td>\n",
       "      <td>0.037726</td>\n",
       "      <td>0.633974</td>\n",
       "      <td>0.337479</td>\n",
       "      <td>-0.058423</td>\n",
       "      <td>0.058920</td>\n",
       "    </tr>\n",
       "    <tr>\n",
       "      <th>8</th>\n",
       "      <td>38</td>\n",
       "      <td>37</td>\n",
       "      <td>1017</td>\n",
       "      <td>5763</td>\n",
       "      <td>7803</td>\n",
       "      <td>13778</td>\n",
       "      <td>0.418276</td>\n",
       "      <td>0.566338</td>\n",
       "      <td>2040</td>\n",
       "      <td>-0.148062</td>\n",
       "      <td>...</td>\n",
       "      <td>23237</td>\n",
       "      <td>8</td>\n",
       "      <td>596.53</td>\n",
       "      <td>57.4</td>\n",
       "      <td>-0.052333</td>\n",
       "      <td>0.044706</td>\n",
       "      <td>0.585176</td>\n",
       "      <td>0.403332</td>\n",
       "      <td>0.018838</td>\n",
       "      <td>-0.014944</td>\n",
       "    </tr>\n",
       "    <tr>\n",
       "      <th>9</th>\n",
       "      <td>39</td>\n",
       "      <td>38</td>\n",
       "      <td>1019</td>\n",
       "      <td>1524</td>\n",
       "      <td>8809</td>\n",
       "      <td>10503</td>\n",
       "      <td>0.145101</td>\n",
       "      <td>0.838713</td>\n",
       "      <td>7285</td>\n",
       "      <td>-0.693611</td>\n",
       "      <td>...</td>\n",
       "      <td>13948</td>\n",
       "      <td>2</td>\n",
       "      <td>553.70</td>\n",
       "      <td>46.9</td>\n",
       "      <td>-0.072704</td>\n",
       "      <td>0.070964</td>\n",
       "      <td>0.761090</td>\n",
       "      <td>0.204391</td>\n",
       "      <td>-0.077623</td>\n",
       "      <td>0.059290</td>\n",
       "    </tr>\n",
       "  </tbody>\n",
       "</table>\n",
       "<p>10 rows × 82 columns</p>\n",
       "</div>"
      ],
      "text/plain": [
       "   Unnamed: 0   X  combined_fips  votes_dem_2016  votes_gop_2016  \\\n",
       "0          30  29           1001            5908           18110   \n",
       "1          31  30           1003           18409           72780   \n",
       "2          32  31           1005            4848            5431   \n",
       "3          33  32           1007            1874            6733   \n",
       "4          34  33           1009            2150           22808   \n",
       "5          35  34           1011            3530            1139   \n",
       "6          36  35           1013            3716            4891   \n",
       "7          37  36           1015           13197           32803   \n",
       "8          38  37           1017            5763            7803   \n",
       "9          39  38           1019            1524            8809   \n",
       "\n",
       "   total_votes_2016   Clinton     Trump  diff_2016  per_point_diff_2016  \\\n",
       "0             24661  0.239569  0.734358      12202            -0.494789   \n",
       "1             94090  0.195653  0.773515      54371            -0.577862   \n",
       "2             10390  0.466603  0.522714        583            -0.056112   \n",
       "3              8748  0.214220  0.769662       4859            -0.555441   \n",
       "4             25384  0.084699  0.898519      20658            -0.813820   \n",
       "5              4701  0.750904  0.242289       2391             0.508615   \n",
       "6              8685  0.427864  0.563155       1175            -0.135291   \n",
       "7             47376  0.278559  0.692397      19606            -0.413838   \n",
       "8             13778  0.418276  0.566338       2040            -0.148062   \n",
       "9             10503  0.145101  0.838713       7285            -0.693611   \n",
       "\n",
       "         ...         AFN120207 BPS030214  LND110210  Density  Clinton_Obama  \\\n",
       "0        ...             88157       131     594.44     91.8      -0.026189   \n",
       "1        ...            436955      1384    1589.78    114.6      -0.020013   \n",
       "2        ...                 0         8     884.88     31.0      -0.045920   \n",
       "3        ...             10757        19     622.58     36.8      -0.047965   \n",
       "4        ...             20941         3     644.78     88.9      -0.038779   \n",
       "5        ...              3670         1     622.81     17.5      -0.012165   \n",
       "6        ...             28427         2     776.83     27.0      -0.032644   \n",
       "7        ...            186533       114     605.87    195.7      -0.056649   \n",
       "8        ...             23237         8     596.53     57.4      -0.052333   \n",
       "9        ...             13948         2     553.70     46.9      -0.072704   \n",
       "\n",
       "   Trump_Romney  Trump_Prediction  Clinton_Prediction  Trump_Deviation  \\\n",
       "0      0.008021          0.620859            0.340493        -0.113499   \n",
       "1     -0.000383          0.586749            0.359502        -0.186766   \n",
       "2      0.039339          0.517832            0.474693        -0.004882   \n",
       "3      0.038998          0.692227            0.286031        -0.077434   \n",
       "4      0.033590          0.789649            0.177490        -0.108870   \n",
       "5      0.007238          0.445269            0.572216         0.202980   \n",
       "6      0.027354          0.522492            0.463313        -0.040663   \n",
       "7      0.037726          0.633974            0.337479        -0.058423   \n",
       "8      0.044706          0.585176            0.403332         0.018838   \n",
       "9      0.070964          0.761090            0.204391        -0.077623   \n",
       "\n",
       "   Clinton_Deviation  \n",
       "0           0.100924  \n",
       "1           0.163849  \n",
       "2           0.008090  \n",
       "3           0.071811  \n",
       "4           0.092791  \n",
       "5          -0.178688  \n",
       "6           0.035449  \n",
       "7           0.058920  \n",
       "8          -0.014944  \n",
       "9           0.059290  \n",
       "\n",
       "[10 rows x 82 columns]"
      ]
     },
     "execution_count": 4,
     "metadata": {},
     "output_type": "execute_result"
    }
   ],
   "source": [
    "#Let's take another peak inside! \n",
    "votes.head(10)"
   ]
  },
  {
   "cell_type": "markdown",
   "metadata": {},
   "source": [
    "Right away, I noticed 82 columns for votes, which to me screamed \"Reduce! Reduce!\", thinking there was a lot of noise here for the purpose of my analysis. Again, keeping it as simple and straightforward as possible."
   ]
  },
  {
   "cell_type": "markdown",
   "metadata": {},
   "source": [
    "The next thing I wanted to do here is create some new dataframes, first off by joining the two datasets on `FIPS`. The purpose, after all, is to help with our investigation to see if, perhaps, the ACA had any meaningful contribution to Hillary Clinton's stunning loss. So with that, because I'm a literary buff, I decided to re-name these datasets after an investigator: **Sherlock**."
   ]
  },
  {
   "cell_type": "code",
   "execution_count": 5,
   "metadata": {
    "collapsed": true
   },
   "outputs": [],
   "source": [
    "sherlock = pd.merge(votes, aca, left_on = 'FIPS', right_on = 'fips')"
   ]
  },
  {
   "cell_type": "code",
   "execution_count": 6,
   "metadata": {
    "collapsed": false
   },
   "outputs": [
    {
     "data": {
      "text/html": [
       "<div>\n",
       "<table border=\"1\" class=\"dataframe\">\n",
       "  <thead>\n",
       "    <tr style=\"text-align: right;\">\n",
       "      <th></th>\n",
       "      <th>Unnamed: 0</th>\n",
       "      <th>X</th>\n",
       "      <th>combined_fips</th>\n",
       "      <th>votes_dem_2016</th>\n",
       "      <th>votes_gop_2016</th>\n",
       "      <th>total_votes_2016</th>\n",
       "      <th>Clinton</th>\n",
       "      <th>Trump</th>\n",
       "      <th>diff_2016</th>\n",
       "      <th>per_point_diff_2016</th>\n",
       "      <th>...</th>\n",
       "      <th>Trump_Romney</th>\n",
       "      <th>Trump_Prediction</th>\n",
       "      <th>Clinton_Prediction</th>\n",
       "      <th>Trump_Deviation</th>\n",
       "      <th>Clinton_Deviation</th>\n",
       "      <th>year</th>\n",
       "      <th>state_code</th>\n",
       "      <th>county_name_y</th>\n",
       "      <th>fips_y</th>\n",
       "      <th>price_avg</th>\n",
       "    </tr>\n",
       "  </thead>\n",
       "  <tbody>\n",
       "    <tr>\n",
       "      <th>0</th>\n",
       "      <td>30</td>\n",
       "      <td>29</td>\n",
       "      <td>1001</td>\n",
       "      <td>5908</td>\n",
       "      <td>18110</td>\n",
       "      <td>24661</td>\n",
       "      <td>0.239569</td>\n",
       "      <td>0.734358</td>\n",
       "      <td>12202</td>\n",
       "      <td>-0.494789</td>\n",
       "      <td>...</td>\n",
       "      <td>0.008021</td>\n",
       "      <td>0.620859</td>\n",
       "      <td>0.340493</td>\n",
       "      <td>-0.113499</td>\n",
       "      <td>0.100924</td>\n",
       "      <td>2015</td>\n",
       "      <td>AL</td>\n",
       "      <td>Autauga County</td>\n",
       "      <td>1001</td>\n",
       "      <td>221.099231</td>\n",
       "    </tr>\n",
       "    <tr>\n",
       "      <th>1</th>\n",
       "      <td>30</td>\n",
       "      <td>29</td>\n",
       "      <td>1001</td>\n",
       "      <td>5908</td>\n",
       "      <td>18110</td>\n",
       "      <td>24661</td>\n",
       "      <td>0.239569</td>\n",
       "      <td>0.734358</td>\n",
       "      <td>12202</td>\n",
       "      <td>-0.494789</td>\n",
       "      <td>...</td>\n",
       "      <td>0.008021</td>\n",
       "      <td>0.620859</td>\n",
       "      <td>0.340493</td>\n",
       "      <td>-0.113499</td>\n",
       "      <td>0.100924</td>\n",
       "      <td>2016</td>\n",
       "      <td>AL</td>\n",
       "      <td>Autauga County</td>\n",
       "      <td>1001</td>\n",
       "      <td>235.656579</td>\n",
       "    </tr>\n",
       "    <tr>\n",
       "      <th>2</th>\n",
       "      <td>30</td>\n",
       "      <td>29</td>\n",
       "      <td>1001</td>\n",
       "      <td>5908</td>\n",
       "      <td>18110</td>\n",
       "      <td>24661</td>\n",
       "      <td>0.239569</td>\n",
       "      <td>0.734358</td>\n",
       "      <td>12202</td>\n",
       "      <td>-0.494789</td>\n",
       "      <td>...</td>\n",
       "      <td>0.008021</td>\n",
       "      <td>0.620859</td>\n",
       "      <td>0.340493</td>\n",
       "      <td>-0.113499</td>\n",
       "      <td>0.100924</td>\n",
       "      <td>2017</td>\n",
       "      <td>AL</td>\n",
       "      <td>Autauga County</td>\n",
       "      <td>1001</td>\n",
       "      <td>341.186154</td>\n",
       "    </tr>\n",
       "    <tr>\n",
       "      <th>3</th>\n",
       "      <td>31</td>\n",
       "      <td>30</td>\n",
       "      <td>1003</td>\n",
       "      <td>18409</td>\n",
       "      <td>72780</td>\n",
       "      <td>94090</td>\n",
       "      <td>0.195653</td>\n",
       "      <td>0.773515</td>\n",
       "      <td>54371</td>\n",
       "      <td>-0.577862</td>\n",
       "      <td>...</td>\n",
       "      <td>-0.000383</td>\n",
       "      <td>0.586749</td>\n",
       "      <td>0.359502</td>\n",
       "      <td>-0.186766</td>\n",
       "      <td>0.163849</td>\n",
       "      <td>2015</td>\n",
       "      <td>AL</td>\n",
       "      <td>Baldwin County</td>\n",
       "      <td>1003</td>\n",
       "      <td>223.345385</td>\n",
       "    </tr>\n",
       "    <tr>\n",
       "      <th>4</th>\n",
       "      <td>31</td>\n",
       "      <td>30</td>\n",
       "      <td>1003</td>\n",
       "      <td>18409</td>\n",
       "      <td>72780</td>\n",
       "      <td>94090</td>\n",
       "      <td>0.195653</td>\n",
       "      <td>0.773515</td>\n",
       "      <td>54371</td>\n",
       "      <td>-0.577862</td>\n",
       "      <td>...</td>\n",
       "      <td>-0.000383</td>\n",
       "      <td>0.586749</td>\n",
       "      <td>0.359502</td>\n",
       "      <td>-0.186766</td>\n",
       "      <td>0.163849</td>\n",
       "      <td>2016</td>\n",
       "      <td>AL</td>\n",
       "      <td>Baldwin County</td>\n",
       "      <td>1003</td>\n",
       "      <td>232.827368</td>\n",
       "    </tr>\n",
       "    <tr>\n",
       "      <th>5</th>\n",
       "      <td>31</td>\n",
       "      <td>30</td>\n",
       "      <td>1003</td>\n",
       "      <td>18409</td>\n",
       "      <td>72780</td>\n",
       "      <td>94090</td>\n",
       "      <td>0.195653</td>\n",
       "      <td>0.773515</td>\n",
       "      <td>54371</td>\n",
       "      <td>-0.577862</td>\n",
       "      <td>...</td>\n",
       "      <td>-0.000383</td>\n",
       "      <td>0.586749</td>\n",
       "      <td>0.359502</td>\n",
       "      <td>-0.186766</td>\n",
       "      <td>0.163849</td>\n",
       "      <td>2017</td>\n",
       "      <td>AL</td>\n",
       "      <td>Baldwin County</td>\n",
       "      <td>1003</td>\n",
       "      <td>330.297692</td>\n",
       "    </tr>\n",
       "    <tr>\n",
       "      <th>6</th>\n",
       "      <td>32</td>\n",
       "      <td>31</td>\n",
       "      <td>1005</td>\n",
       "      <td>4848</td>\n",
       "      <td>5431</td>\n",
       "      <td>10390</td>\n",
       "      <td>0.466603</td>\n",
       "      <td>0.522714</td>\n",
       "      <td>583</td>\n",
       "      <td>-0.056112</td>\n",
       "      <td>...</td>\n",
       "      <td>0.039339</td>\n",
       "      <td>0.517832</td>\n",
       "      <td>0.474693</td>\n",
       "      <td>-0.004882</td>\n",
       "      <td>0.008090</td>\n",
       "      <td>2015</td>\n",
       "      <td>AL</td>\n",
       "      <td>Barbour County</td>\n",
       "      <td>1005</td>\n",
       "      <td>223.345385</td>\n",
       "    </tr>\n",
       "    <tr>\n",
       "      <th>7</th>\n",
       "      <td>32</td>\n",
       "      <td>31</td>\n",
       "      <td>1005</td>\n",
       "      <td>4848</td>\n",
       "      <td>5431</td>\n",
       "      <td>10390</td>\n",
       "      <td>0.466603</td>\n",
       "      <td>0.522714</td>\n",
       "      <td>583</td>\n",
       "      <td>-0.056112</td>\n",
       "      <td>...</td>\n",
       "      <td>0.039339</td>\n",
       "      <td>0.517832</td>\n",
       "      <td>0.474693</td>\n",
       "      <td>-0.004882</td>\n",
       "      <td>0.008090</td>\n",
       "      <td>2016</td>\n",
       "      <td>AL</td>\n",
       "      <td>Barbour County</td>\n",
       "      <td>1005</td>\n",
       "      <td>232.827368</td>\n",
       "    </tr>\n",
       "    <tr>\n",
       "      <th>8</th>\n",
       "      <td>32</td>\n",
       "      <td>31</td>\n",
       "      <td>1005</td>\n",
       "      <td>4848</td>\n",
       "      <td>5431</td>\n",
       "      <td>10390</td>\n",
       "      <td>0.466603</td>\n",
       "      <td>0.522714</td>\n",
       "      <td>583</td>\n",
       "      <td>-0.056112</td>\n",
       "      <td>...</td>\n",
       "      <td>0.039339</td>\n",
       "      <td>0.517832</td>\n",
       "      <td>0.474693</td>\n",
       "      <td>-0.004882</td>\n",
       "      <td>0.008090</td>\n",
       "      <td>2017</td>\n",
       "      <td>AL</td>\n",
       "      <td>Barbour County</td>\n",
       "      <td>1005</td>\n",
       "      <td>330.297692</td>\n",
       "    </tr>\n",
       "    <tr>\n",
       "      <th>9</th>\n",
       "      <td>33</td>\n",
       "      <td>32</td>\n",
       "      <td>1007</td>\n",
       "      <td>1874</td>\n",
       "      <td>6733</td>\n",
       "      <td>8748</td>\n",
       "      <td>0.214220</td>\n",
       "      <td>0.769662</td>\n",
       "      <td>4859</td>\n",
       "      <td>-0.555441</td>\n",
       "      <td>...</td>\n",
       "      <td>0.038998</td>\n",
       "      <td>0.692227</td>\n",
       "      <td>0.286031</td>\n",
       "      <td>-0.077434</td>\n",
       "      <td>0.071811</td>\n",
       "      <td>2015</td>\n",
       "      <td>AL</td>\n",
       "      <td>Bibb County</td>\n",
       "      <td>1007</td>\n",
       "      <td>230.813846</td>\n",
       "    </tr>\n",
       "  </tbody>\n",
       "</table>\n",
       "<p>10 rows × 87 columns</p>\n",
       "</div>"
      ],
      "text/plain": [
       "   Unnamed: 0   X  combined_fips  votes_dem_2016  votes_gop_2016  \\\n",
       "0          30  29           1001            5908           18110   \n",
       "1          30  29           1001            5908           18110   \n",
       "2          30  29           1001            5908           18110   \n",
       "3          31  30           1003           18409           72780   \n",
       "4          31  30           1003           18409           72780   \n",
       "5          31  30           1003           18409           72780   \n",
       "6          32  31           1005            4848            5431   \n",
       "7          32  31           1005            4848            5431   \n",
       "8          32  31           1005            4848            5431   \n",
       "9          33  32           1007            1874            6733   \n",
       "\n",
       "   total_votes_2016   Clinton     Trump  diff_2016  per_point_diff_2016  \\\n",
       "0             24661  0.239569  0.734358      12202            -0.494789   \n",
       "1             24661  0.239569  0.734358      12202            -0.494789   \n",
       "2             24661  0.239569  0.734358      12202            -0.494789   \n",
       "3             94090  0.195653  0.773515      54371            -0.577862   \n",
       "4             94090  0.195653  0.773515      54371            -0.577862   \n",
       "5             94090  0.195653  0.773515      54371            -0.577862   \n",
       "6             10390  0.466603  0.522714        583            -0.056112   \n",
       "7             10390  0.466603  0.522714        583            -0.056112   \n",
       "8             10390  0.466603  0.522714        583            -0.056112   \n",
       "9              8748  0.214220  0.769662       4859            -0.555441   \n",
       "\n",
       "      ...     Trump_Romney Trump_Prediction  Clinton_Prediction  \\\n",
       "0     ...         0.008021         0.620859            0.340493   \n",
       "1     ...         0.008021         0.620859            0.340493   \n",
       "2     ...         0.008021         0.620859            0.340493   \n",
       "3     ...        -0.000383         0.586749            0.359502   \n",
       "4     ...        -0.000383         0.586749            0.359502   \n",
       "5     ...        -0.000383         0.586749            0.359502   \n",
       "6     ...         0.039339         0.517832            0.474693   \n",
       "7     ...         0.039339         0.517832            0.474693   \n",
       "8     ...         0.039339         0.517832            0.474693   \n",
       "9     ...         0.038998         0.692227            0.286031   \n",
       "\n",
       "   Trump_Deviation  Clinton_Deviation  year  state_code   county_name_y  \\\n",
       "0        -0.113499           0.100924  2015          AL  Autauga County   \n",
       "1        -0.113499           0.100924  2016          AL  Autauga County   \n",
       "2        -0.113499           0.100924  2017          AL  Autauga County   \n",
       "3        -0.186766           0.163849  2015          AL  Baldwin County   \n",
       "4        -0.186766           0.163849  2016          AL  Baldwin County   \n",
       "5        -0.186766           0.163849  2017          AL  Baldwin County   \n",
       "6        -0.004882           0.008090  2015          AL  Barbour County   \n",
       "7        -0.004882           0.008090  2016          AL  Barbour County   \n",
       "8        -0.004882           0.008090  2017          AL  Barbour County   \n",
       "9        -0.077434           0.071811  2015          AL     Bibb County   \n",
       "\n",
       "   fips_y   price_avg  \n",
       "0    1001  221.099231  \n",
       "1    1001  235.656579  \n",
       "2    1001  341.186154  \n",
       "3    1003  223.345385  \n",
       "4    1003  232.827368  \n",
       "5    1003  330.297692  \n",
       "6    1005  223.345385  \n",
       "7    1005  232.827368  \n",
       "8    1005  330.297692  \n",
       "9    1007  230.813846  \n",
       "\n",
       "[10 rows x 87 columns]"
      ]
     },
     "execution_count": 6,
     "metadata": {},
     "output_type": "execute_result"
    }
   ],
   "source": [
    "#Let's see if that worked!\n",
    "sherlock.head(10)"
   ]
  },
  {
   "cell_type": "markdown",
   "metadata": {},
   "source": [
    "Now that we know I joined the datasets correctly, for this next part, what I want to do is calculate the percent change of individual on market year over year for the 2015 - 2017 policy years. And as a bit of background, you generally purchase the next years' insurance policy in the preceding year, and even more generally, the rate filings occur during the summer -- right in the thick of the sweltering, sticky 2016 election. And, oh yeah, summer, too.  "
   ]
  },
  {
   "cell_type": "code",
   "execution_count": 7,
   "metadata": {
    "collapsed": true
   },
   "outputs": [],
   "source": [
    "sherlock['price_pct_ch'] = sherlock.groupby('FIPS')['price_avg'].apply(lambda x: x.pct_change())"
   ]
  },
  {
   "cell_type": "markdown",
   "metadata": {},
   "source": [
    "The next bit is a fun little exercise for me -- applying some Python logic to find county flips for Trump and Clinton."
   ]
  },
  {
   "cell_type": "code",
   "execution_count": 8,
   "metadata": {
    "collapsed": true
   },
   "outputs": [],
   "source": [
    "sherlock['Trump_Flip'] = np.where((sherlock.Trump > sherlock.Clinton) & (sherlock.Obama > sherlock.Romney), 1, 0)"
   ]
  },
  {
   "cell_type": "code",
   "execution_count": 9,
   "metadata": {
    "collapsed": true
   },
   "outputs": [],
   "source": [
    "sherlock['Clinton_Flip'] = np.where((sherlock.Clinton > sherlock.Trump) & (sherlock.Romney > sherlock.Obama), 1, 0)"
   ]
  },
  {
   "cell_type": "markdown",
   "metadata": {},
   "source": [
    "For the next group, I want to assign binary 0's and 1's to particular county attributes. Now that's not as easy as it sounds. What I did here was shoot for the 75th percentile for each value, and using my intuition where it makes more sense to go a bit above it, e.g. for big price swings in ACA premiums. "
   ]
  },
  {
   "cell_type": "code",
   "execution_count": 11,
   "metadata": {
    "collapsed": false
   },
   "outputs": [],
   "source": [
    "sherlock['Huge_Price_Swing'] = np.where((sherlock.price_pct_ch > .50), 1, 0)\n",
    "sherlock['election_year'] = np.where(sherlock.year > 2016, 1, 0)\n",
    "sherlock['Trump_Win'] = np.where(sherlock.Trump > sherlock.Clinton, 1, 0)\n",
    "sherlock['Obama_Win'] = np.where(sherlock.Obama > sherlock.Romney, 1, 0)\n",
    "sherlock['Clinton_Win'] = np.where(sherlock.Clinton > sherlock.Trump, 1, 0)\n",
    "sherlock['Romney_Win'] = np.where(sherlock.Romney > sherlock.Obama, 1, 0)\n",
    "sherlock['Whiter_County'] = np.where(sherlock.White > .96, 1,0)\n",
    "sherlock['Blacker_County'] = np.where(sherlock.Black > .11, 1, 0)\n",
    "sherlock['More_Female_County'] = np.where(sherlock.SEX255214 > 51, 1, 0)\n",
    "sherlock['More_Hispanic_County'] = np.where(sherlock.Hispanic > .09, 1, 0)\n",
    "sherlock['Immigrant_County'] = np.where(sherlock.POP645213 > 6, 1, 0)\n",
    "sherlock['Educated_County'] = np.where(sherlock.Edu_batchelors > 23.2, 1,0)\n",
    "sherlock['Undereducated_County'] = np.where(sherlock.Edu_highschool < 85, 1, 0)\n",
    "sherlock['Sig_Population_Change'] = np.where(sherlock.population_change > 2.2, 1, 0)\n",
    "sherlock['Older_County'] = np.where(sherlock.age65plus > 20, 1, 0)\n",
    "sherlock['Wealthier_County'] = np.where(sherlock.INC110213 > 51000, 1, 0)\n",
    "sherlock['Poorer_County'] = np.where(sherlock.Poverty > 20, 1, 0)\n",
    "sherlock['Denser_County'] = np.where(sherlock.Density > 1000, 1,0)\n",
    "sherlock['Rural_County'] = np.where(sherlock.Density < 20, 1, 0)\n",
    "sherlock['County_Name'] = sherlock['county_name_x']\n",
    "sherlock['State_Code'] = sherlock['state_code']\n",
    "sherlock['More_Republican'] = np.where(sherlock.votes_gop_2016 > sherlock.votes_gop_2012, 1, 0)\n",
    "sherlock['More_Democratic'] = np.where(sherlock.votes_dem_2016 > sherlock.votes_dem_2012, 1, 0)\n",
    "sherlock['Turnout_Increase'] = np.where(sherlock.total_votes_2016 > sherlock.total_votes_2012, 1, 0)"
   ]
  },
  {
   "cell_type": "markdown",
   "metadata": {},
   "source": [
    "For this next bit, I now want to create a new dataframe with only the counties I want to keep. And what better name than **Sherlock Holmes**! But this time, his full name. And also, to ensure we do not triple-count counties, we'll only for data during an electon year."
   ]
  },
  {
   "cell_type": "code",
   "execution_count": 12,
   "metadata": {
    "collapsed": true
   },
   "outputs": [],
   "source": [
    "sherlock = sherlock.loc[sherlock['election_year'] != 0]"
   ]
  },
  {
   "cell_type": "code",
   "execution_count": 16,
   "metadata": {
    "collapsed": false
   },
   "outputs": [],
   "source": [
    "sherlock_holmes = sherlock[['Trump_Win', 'Clinton_Win', 'Obama_Win', 'Romney_Win', 'More_Republican', 'More_Democratic', \n",
    "                          'Trump_Flip', 'Clinton_Flip', 'Huge_Price_Swing', 'Turnout_Increase', 'Sig_Population_Change',\n",
    "                          'Educated_County', 'Undereducated_County', 'Whiter_County', 'Blacker_County', 'More_Female_County',\n",
    "                          'More_Hispanic_County', 'Older_County', 'Wealthier_County', 'Poorer_County', 'Denser_County', \n",
    "                          'County_Name', 'State_Code', 'FIPS', 'Rural_County', 'Immigrant_County']]"
   ]
  },
  {
   "cell_type": "markdown",
   "metadata": {},
   "source": [
    "Let's make sure everything made its way there! "
   ]
  },
  {
   "cell_type": "code",
   "execution_count": 17,
   "metadata": {
    "collapsed": false
   },
   "outputs": [
    {
     "data": {
      "text/html": [
       "<div>\n",
       "<table border=\"1\" class=\"dataframe\">\n",
       "  <thead>\n",
       "    <tr style=\"text-align: right;\">\n",
       "      <th></th>\n",
       "      <th>Trump_Win</th>\n",
       "      <th>Clinton_Win</th>\n",
       "      <th>Obama_Win</th>\n",
       "      <th>Romney_Win</th>\n",
       "      <th>More_Republican</th>\n",
       "      <th>More_Democratic</th>\n",
       "      <th>Trump_Flip</th>\n",
       "      <th>Clinton_Flip</th>\n",
       "      <th>Huge_Price_Swing</th>\n",
       "      <th>Turnout_Increase</th>\n",
       "      <th>...</th>\n",
       "      <th>More_Hispanic_County</th>\n",
       "      <th>Older_County</th>\n",
       "      <th>Wealthier_County</th>\n",
       "      <th>Poorer_County</th>\n",
       "      <th>Denser_County</th>\n",
       "      <th>County_Name</th>\n",
       "      <th>State_Code</th>\n",
       "      <th>FIPS</th>\n",
       "      <th>Rural_County</th>\n",
       "      <th>Immigrant_County</th>\n",
       "    </tr>\n",
       "  </thead>\n",
       "  <tbody>\n",
       "    <tr>\n",
       "      <th>9108</th>\n",
       "      <td>1</td>\n",
       "      <td>0</td>\n",
       "      <td>0</td>\n",
       "      <td>1</td>\n",
       "      <td>1</td>\n",
       "      <td>0</td>\n",
       "      <td>0</td>\n",
       "      <td>0</td>\n",
       "      <td>0</td>\n",
       "      <td>1</td>\n",
       "      <td>...</td>\n",
       "      <td>0</td>\n",
       "      <td>1</td>\n",
       "      <td>0</td>\n",
       "      <td>0</td>\n",
       "      <td>0</td>\n",
       "      <td>Niobrara County</td>\n",
       "      <td>WY</td>\n",
       "      <td>56027</td>\n",
       "      <td>1</td>\n",
       "      <td>0</td>\n",
       "    </tr>\n",
       "    <tr>\n",
       "      <th>9110</th>\n",
       "      <td>1</td>\n",
       "      <td>0</td>\n",
       "      <td>0</td>\n",
       "      <td>1</td>\n",
       "      <td>0</td>\n",
       "      <td>0</td>\n",
       "      <td>0</td>\n",
       "      <td>0</td>\n",
       "      <td>0</td>\n",
       "      <td>1</td>\n",
       "      <td>...</td>\n",
       "      <td>0</td>\n",
       "      <td>1</td>\n",
       "      <td>1</td>\n",
       "      <td>0</td>\n",
       "      <td>0</td>\n",
       "      <td>Park County</td>\n",
       "      <td>WY</td>\n",
       "      <td>56029</td>\n",
       "      <td>1</td>\n",
       "      <td>0</td>\n",
       "    </tr>\n",
       "    <tr>\n",
       "      <th>9112</th>\n",
       "      <td>1</td>\n",
       "      <td>0</td>\n",
       "      <td>0</td>\n",
       "      <td>1</td>\n",
       "      <td>1</td>\n",
       "      <td>0</td>\n",
       "      <td>0</td>\n",
       "      <td>0</td>\n",
       "      <td>0</td>\n",
       "      <td>0</td>\n",
       "      <td>...</td>\n",
       "      <td>0</td>\n",
       "      <td>1</td>\n",
       "      <td>0</td>\n",
       "      <td>0</td>\n",
       "      <td>0</td>\n",
       "      <td>Platte County</td>\n",
       "      <td>WY</td>\n",
       "      <td>56031</td>\n",
       "      <td>1</td>\n",
       "      <td>0</td>\n",
       "    </tr>\n",
       "    <tr>\n",
       "      <th>9114</th>\n",
       "      <td>1</td>\n",
       "      <td>0</td>\n",
       "      <td>0</td>\n",
       "      <td>1</td>\n",
       "      <td>0</td>\n",
       "      <td>0</td>\n",
       "      <td>0</td>\n",
       "      <td>0</td>\n",
       "      <td>0</td>\n",
       "      <td>0</td>\n",
       "      <td>...</td>\n",
       "      <td>0</td>\n",
       "      <td>0</td>\n",
       "      <td>1</td>\n",
       "      <td>0</td>\n",
       "      <td>0</td>\n",
       "      <td>Sheridan County</td>\n",
       "      <td>WY</td>\n",
       "      <td>56033</td>\n",
       "      <td>1</td>\n",
       "      <td>0</td>\n",
       "    </tr>\n",
       "    <tr>\n",
       "      <th>9116</th>\n",
       "      <td>1</td>\n",
       "      <td>0</td>\n",
       "      <td>0</td>\n",
       "      <td>1</td>\n",
       "      <td>0</td>\n",
       "      <td>0</td>\n",
       "      <td>0</td>\n",
       "      <td>0</td>\n",
       "      <td>0</td>\n",
       "      <td>0</td>\n",
       "      <td>...</td>\n",
       "      <td>0</td>\n",
       "      <td>0</td>\n",
       "      <td>1</td>\n",
       "      <td>0</td>\n",
       "      <td>0</td>\n",
       "      <td>Sublette County</td>\n",
       "      <td>WY</td>\n",
       "      <td>56035</td>\n",
       "      <td>1</td>\n",
       "      <td>0</td>\n",
       "    </tr>\n",
       "    <tr>\n",
       "      <th>9118</th>\n",
       "      <td>1</td>\n",
       "      <td>0</td>\n",
       "      <td>0</td>\n",
       "      <td>1</td>\n",
       "      <td>1</td>\n",
       "      <td>0</td>\n",
       "      <td>0</td>\n",
       "      <td>0</td>\n",
       "      <td>0</td>\n",
       "      <td>0</td>\n",
       "      <td>...</td>\n",
       "      <td>1</td>\n",
       "      <td>0</td>\n",
       "      <td>1</td>\n",
       "      <td>0</td>\n",
       "      <td>0</td>\n",
       "      <td>Sweetwater County</td>\n",
       "      <td>WY</td>\n",
       "      <td>56037</td>\n",
       "      <td>1</td>\n",
       "      <td>0</td>\n",
       "    </tr>\n",
       "    <tr>\n",
       "      <th>9120</th>\n",
       "      <td>0</td>\n",
       "      <td>1</td>\n",
       "      <td>1</td>\n",
       "      <td>0</td>\n",
       "      <td>0</td>\n",
       "      <td>1</td>\n",
       "      <td>0</td>\n",
       "      <td>0</td>\n",
       "      <td>0</td>\n",
       "      <td>1</td>\n",
       "      <td>...</td>\n",
       "      <td>1</td>\n",
       "      <td>0</td>\n",
       "      <td>1</td>\n",
       "      <td>0</td>\n",
       "      <td>0</td>\n",
       "      <td>Teton County</td>\n",
       "      <td>WY</td>\n",
       "      <td>56039</td>\n",
       "      <td>1</td>\n",
       "      <td>1</td>\n",
       "    </tr>\n",
       "    <tr>\n",
       "      <th>9122</th>\n",
       "      <td>1</td>\n",
       "      <td>0</td>\n",
       "      <td>0</td>\n",
       "      <td>1</td>\n",
       "      <td>0</td>\n",
       "      <td>0</td>\n",
       "      <td>0</td>\n",
       "      <td>0</td>\n",
       "      <td>0</td>\n",
       "      <td>0</td>\n",
       "      <td>...</td>\n",
       "      <td>1</td>\n",
       "      <td>0</td>\n",
       "      <td>1</td>\n",
       "      <td>0</td>\n",
       "      <td>0</td>\n",
       "      <td>Uinta County</td>\n",
       "      <td>WY</td>\n",
       "      <td>56041</td>\n",
       "      <td>1</td>\n",
       "      <td>0</td>\n",
       "    </tr>\n",
       "    <tr>\n",
       "      <th>9124</th>\n",
       "      <td>1</td>\n",
       "      <td>0</td>\n",
       "      <td>0</td>\n",
       "      <td>1</td>\n",
       "      <td>0</td>\n",
       "      <td>0</td>\n",
       "      <td>0</td>\n",
       "      <td>0</td>\n",
       "      <td>0</td>\n",
       "      <td>0</td>\n",
       "      <td>...</td>\n",
       "      <td>1</td>\n",
       "      <td>1</td>\n",
       "      <td>0</td>\n",
       "      <td>0</td>\n",
       "      <td>0</td>\n",
       "      <td>Washakie County</td>\n",
       "      <td>WY</td>\n",
       "      <td>56043</td>\n",
       "      <td>1</td>\n",
       "      <td>0</td>\n",
       "    </tr>\n",
       "    <tr>\n",
       "      <th>9126</th>\n",
       "      <td>1</td>\n",
       "      <td>0</td>\n",
       "      <td>0</td>\n",
       "      <td>1</td>\n",
       "      <td>1</td>\n",
       "      <td>0</td>\n",
       "      <td>0</td>\n",
       "      <td>0</td>\n",
       "      <td>0</td>\n",
       "      <td>1</td>\n",
       "      <td>...</td>\n",
       "      <td>0</td>\n",
       "      <td>0</td>\n",
       "      <td>1</td>\n",
       "      <td>0</td>\n",
       "      <td>0</td>\n",
       "      <td>Weston County</td>\n",
       "      <td>WY</td>\n",
       "      <td>56045</td>\n",
       "      <td>1</td>\n",
       "      <td>0</td>\n",
       "    </tr>\n",
       "  </tbody>\n",
       "</table>\n",
       "<p>10 rows × 26 columns</p>\n",
       "</div>"
      ],
      "text/plain": [
       "      Trump_Win  Clinton_Win  Obama_Win  Romney_Win  More_Republican  \\\n",
       "9108          1            0          0           1                1   \n",
       "9110          1            0          0           1                0   \n",
       "9112          1            0          0           1                1   \n",
       "9114          1            0          0           1                0   \n",
       "9116          1            0          0           1                0   \n",
       "9118          1            0          0           1                1   \n",
       "9120          0            1          1           0                0   \n",
       "9122          1            0          0           1                0   \n",
       "9124          1            0          0           1                0   \n",
       "9126          1            0          0           1                1   \n",
       "\n",
       "      More_Democratic  Trump_Flip  Clinton_Flip  Huge_Price_Swing  \\\n",
       "9108                0           0             0                 0   \n",
       "9110                0           0             0                 0   \n",
       "9112                0           0             0                 0   \n",
       "9114                0           0             0                 0   \n",
       "9116                0           0             0                 0   \n",
       "9118                0           0             0                 0   \n",
       "9120                1           0             0                 0   \n",
       "9122                0           0             0                 0   \n",
       "9124                0           0             0                 0   \n",
       "9126                0           0             0                 0   \n",
       "\n",
       "      Turnout_Increase        ...         More_Hispanic_County  Older_County  \\\n",
       "9108                 1        ...                            0             1   \n",
       "9110                 1        ...                            0             1   \n",
       "9112                 0        ...                            0             1   \n",
       "9114                 0        ...                            0             0   \n",
       "9116                 0        ...                            0             0   \n",
       "9118                 0        ...                            1             0   \n",
       "9120                 1        ...                            1             0   \n",
       "9122                 0        ...                            1             0   \n",
       "9124                 0        ...                            1             1   \n",
       "9126                 1        ...                            0             0   \n",
       "\n",
       "      Wealthier_County  Poorer_County  Denser_County        County_Name  \\\n",
       "9108                 0              0              0    Niobrara County   \n",
       "9110                 1              0              0        Park County   \n",
       "9112                 0              0              0      Platte County   \n",
       "9114                 1              0              0    Sheridan County   \n",
       "9116                 1              0              0    Sublette County   \n",
       "9118                 1              0              0  Sweetwater County   \n",
       "9120                 1              0              0       Teton County   \n",
       "9122                 1              0              0       Uinta County   \n",
       "9124                 0              0              0    Washakie County   \n",
       "9126                 1              0              0      Weston County   \n",
       "\n",
       "      State_Code   FIPS  Rural_County  Immigrant_County  \n",
       "9108          WY  56027             1                 0  \n",
       "9110          WY  56029             1                 0  \n",
       "9112          WY  56031             1                 0  \n",
       "9114          WY  56033             1                 0  \n",
       "9116          WY  56035             1                 0  \n",
       "9118          WY  56037             1                 0  \n",
       "9120          WY  56039             1                 1  \n",
       "9122          WY  56041             1                 0  \n",
       "9124          WY  56043             1                 0  \n",
       "9126          WY  56045             1                 0  \n",
       "\n",
       "[10 rows x 26 columns]"
      ]
     },
     "execution_count": 17,
     "metadata": {},
     "output_type": "execute_result"
    }
   ],
   "source": [
    "sherlock_holmes.tail(10)"
   ]
  },
  {
   "cell_type": "markdown",
   "metadata": {},
   "source": [
    "And now, a quick correlation check as part of the **EDA**."
   ]
  },
  {
   "cell_type": "code",
   "execution_count": 18,
   "metadata": {
    "collapsed": false
   },
   "outputs": [
    {
     "data": {
      "text/html": [
       "<div>\n",
       "<table border=\"1\" class=\"dataframe\">\n",
       "  <thead>\n",
       "    <tr style=\"text-align: right;\">\n",
       "      <th></th>\n",
       "      <th>Trump_Win</th>\n",
       "      <th>Clinton_Win</th>\n",
       "      <th>Obama_Win</th>\n",
       "      <th>Romney_Win</th>\n",
       "      <th>More_Republican</th>\n",
       "      <th>More_Democratic</th>\n",
       "      <th>Trump_Flip</th>\n",
       "      <th>Clinton_Flip</th>\n",
       "      <th>Huge_Price_Swing</th>\n",
       "      <th>Turnout_Increase</th>\n",
       "      <th>...</th>\n",
       "      <th>Blacker_County</th>\n",
       "      <th>More_Female_County</th>\n",
       "      <th>More_Hispanic_County</th>\n",
       "      <th>Older_County</th>\n",
       "      <th>Wealthier_County</th>\n",
       "      <th>Poorer_County</th>\n",
       "      <th>Denser_County</th>\n",
       "      <th>FIPS</th>\n",
       "      <th>Rural_County</th>\n",
       "      <th>Immigrant_County</th>\n",
       "    </tr>\n",
       "  </thead>\n",
       "  <tbody>\n",
       "    <tr>\n",
       "      <th>Trump_Win</th>\n",
       "      <td>1.000000</td>\n",
       "      <td>-1.000000</td>\n",
       "      <td>-0.764808</td>\n",
       "      <td>0.764808</td>\n",
       "      <td>0.372652</td>\n",
       "      <td>-0.308569</td>\n",
       "      <td>0.116812</td>\n",
       "      <td>-0.185268</td>\n",
       "      <td>0.123699</td>\n",
       "      <td>0.132986</td>\n",
       "      <td>...</td>\n",
       "      <td>-0.262642</td>\n",
       "      <td>-0.180803</td>\n",
       "      <td>-0.149045</td>\n",
       "      <td>0.161277</td>\n",
       "      <td>-0.153337</td>\n",
       "      <td>-0.135471</td>\n",
       "      <td>-0.409308</td>\n",
       "      <td>0.023924</td>\n",
       "      <td>0.106740</td>\n",
       "      <td>-0.306069</td>\n",
       "    </tr>\n",
       "    <tr>\n",
       "      <th>Clinton_Win</th>\n",
       "      <td>-1.000000</td>\n",
       "      <td>1.000000</td>\n",
       "      <td>0.764808</td>\n",
       "      <td>-0.764808</td>\n",
       "      <td>-0.372652</td>\n",
       "      <td>0.308569</td>\n",
       "      <td>-0.116812</td>\n",
       "      <td>0.185268</td>\n",
       "      <td>-0.123699</td>\n",
       "      <td>-0.132986</td>\n",
       "      <td>...</td>\n",
       "      <td>0.262642</td>\n",
       "      <td>0.180803</td>\n",
       "      <td>0.149045</td>\n",
       "      <td>-0.161277</td>\n",
       "      <td>0.153337</td>\n",
       "      <td>0.135471</td>\n",
       "      <td>0.409308</td>\n",
       "      <td>-0.023924</td>\n",
       "      <td>-0.106740</td>\n",
       "      <td>0.306069</td>\n",
       "    </tr>\n",
       "    <tr>\n",
       "      <th>Obama_Win</th>\n",
       "      <td>-0.764808</td>\n",
       "      <td>0.764808</td>\n",
       "      <td>1.000000</td>\n",
       "      <td>-1.000000</td>\n",
       "      <td>-0.251218</td>\n",
       "      <td>0.175042</td>\n",
       "      <td>0.523178</td>\n",
       "      <td>-0.041366</td>\n",
       "      <td>-0.119976</td>\n",
       "      <td>-0.211125</td>\n",
       "      <td>...</td>\n",
       "      <td>0.220826</td>\n",
       "      <td>0.156444</td>\n",
       "      <td>0.083517</td>\n",
       "      <td>-0.123347</td>\n",
       "      <td>0.119644</td>\n",
       "      <td>0.091156</td>\n",
       "      <td>0.323132</td>\n",
       "      <td>-0.012385</td>\n",
       "      <td>-0.114863</td>\n",
       "      <td>0.196577</td>\n",
       "    </tr>\n",
       "    <tr>\n",
       "      <th>Romney_Win</th>\n",
       "      <td>0.764808</td>\n",
       "      <td>-0.764808</td>\n",
       "      <td>-1.000000</td>\n",
       "      <td>1.000000</td>\n",
       "      <td>0.251218</td>\n",
       "      <td>-0.175042</td>\n",
       "      <td>-0.523178</td>\n",
       "      <td>0.041366</td>\n",
       "      <td>0.119976</td>\n",
       "      <td>0.211125</td>\n",
       "      <td>...</td>\n",
       "      <td>-0.220826</td>\n",
       "      <td>-0.156444</td>\n",
       "      <td>-0.083517</td>\n",
       "      <td>0.123347</td>\n",
       "      <td>-0.119644</td>\n",
       "      <td>-0.091156</td>\n",
       "      <td>-0.323132</td>\n",
       "      <td>0.012385</td>\n",
       "      <td>0.114863</td>\n",
       "      <td>-0.196577</td>\n",
       "    </tr>\n",
       "    <tr>\n",
       "      <th>More_Republican</th>\n",
       "      <td>0.372652</td>\n",
       "      <td>-0.372652</td>\n",
       "      <td>-0.251218</td>\n",
       "      <td>0.251218</td>\n",
       "      <td>1.000000</td>\n",
       "      <td>-0.224167</td>\n",
       "      <td>0.080190</td>\n",
       "      <td>-0.127191</td>\n",
       "      <td>0.060100</td>\n",
       "      <td>0.294265</td>\n",
       "      <td>...</td>\n",
       "      <td>-0.175447</td>\n",
       "      <td>-0.125471</td>\n",
       "      <td>-0.151540</td>\n",
       "      <td>0.086891</td>\n",
       "      <td>-0.117639</td>\n",
       "      <td>-0.070026</td>\n",
       "      <td>-0.268227</td>\n",
       "      <td>0.036422</td>\n",
       "      <td>-0.052036</td>\n",
       "      <td>-0.258915</td>\n",
       "    </tr>\n",
       "    <tr>\n",
       "      <th>More_Democratic</th>\n",
       "      <td>-0.308569</td>\n",
       "      <td>0.308569</td>\n",
       "      <td>0.175042</td>\n",
       "      <td>-0.175042</td>\n",
       "      <td>-0.224167</td>\n",
       "      <td>1.000000</td>\n",
       "      <td>-0.095188</td>\n",
       "      <td>0.184967</td>\n",
       "      <td>-0.050002</td>\n",
       "      <td>0.240971</td>\n",
       "      <td>...</td>\n",
       "      <td>0.058812</td>\n",
       "      <td>0.073347</td>\n",
       "      <td>0.336514</td>\n",
       "      <td>-0.136847</td>\n",
       "      <td>0.292276</td>\n",
       "      <td>-0.062770</td>\n",
       "      <td>0.310654</td>\n",
       "      <td>0.014163</td>\n",
       "      <td>-0.120267</td>\n",
       "      <td>0.468364</td>\n",
       "    </tr>\n",
       "    <tr>\n",
       "      <th>Trump_Flip</th>\n",
       "      <td>0.116812</td>\n",
       "      <td>-0.116812</td>\n",
       "      <td>0.523178</td>\n",
       "      <td>-0.523178</td>\n",
       "      <td>0.080190</td>\n",
       "      <td>-0.095188</td>\n",
       "      <td>1.000000</td>\n",
       "      <td>-0.021642</td>\n",
       "      <td>-0.025855</td>\n",
       "      <td>-0.138936</td>\n",
       "      <td>...</td>\n",
       "      <td>-0.012625</td>\n",
       "      <td>-0.013025</td>\n",
       "      <td>-0.057129</td>\n",
       "      <td>0.017280</td>\n",
       "      <td>0.001739</td>\n",
       "      <td>-0.040612</td>\n",
       "      <td>-0.023480</td>\n",
       "      <td>0.013993</td>\n",
       "      <td>-0.044042</td>\n",
       "      <td>-0.076941</td>\n",
       "    </tr>\n",
       "    <tr>\n",
       "      <th>Clinton_Flip</th>\n",
       "      <td>-0.185268</td>\n",
       "      <td>0.185268</td>\n",
       "      <td>-0.041366</td>\n",
       "      <td>0.041366</td>\n",
       "      <td>-0.127191</td>\n",
       "      <td>0.184967</td>\n",
       "      <td>-0.021642</td>\n",
       "      <td>1.000000</td>\n",
       "      <td>-0.021116</td>\n",
       "      <td>0.046537</td>\n",
       "      <td>...</td>\n",
       "      <td>0.002538</td>\n",
       "      <td>-0.035807</td>\n",
       "      <td>0.058255</td>\n",
       "      <td>-0.034984</td>\n",
       "      <td>0.080276</td>\n",
       "      <td>0.009593</td>\n",
       "      <td>0.102315</td>\n",
       "      <td>0.001064</td>\n",
       "      <td>-0.029612</td>\n",
       "      <td>0.119634</td>\n",
       "    </tr>\n",
       "    <tr>\n",
       "      <th>Huge_Price_Swing</th>\n",
       "      <td>0.123699</td>\n",
       "      <td>-0.123699</td>\n",
       "      <td>-0.119976</td>\n",
       "      <td>0.119976</td>\n",
       "      <td>0.060100</td>\n",
       "      <td>-0.050002</td>\n",
       "      <td>-0.025855</td>\n",
       "      <td>-0.021116</td>\n",
       "      <td>1.000000</td>\n",
       "      <td>0.020746</td>\n",
       "      <td>...</td>\n",
       "      <td>-0.172808</td>\n",
       "      <td>-0.091293</td>\n",
       "      <td>0.045710</td>\n",
       "      <td>0.072897</td>\n",
       "      <td>-0.038525</td>\n",
       "      <td>-0.074605</td>\n",
       "      <td>-0.068851</td>\n",
       "      <td>0.152450</td>\n",
       "      <td>0.234732</td>\n",
       "      <td>-0.010801</td>\n",
       "    </tr>\n",
       "    <tr>\n",
       "      <th>Turnout_Increase</th>\n",
       "      <td>0.132986</td>\n",
       "      <td>-0.132986</td>\n",
       "      <td>-0.211125</td>\n",
       "      <td>0.211125</td>\n",
       "      <td>0.294265</td>\n",
       "      <td>0.240971</td>\n",
       "      <td>-0.138936</td>\n",
       "      <td>0.046537</td>\n",
       "      <td>0.020746</td>\n",
       "      <td>1.000000</td>\n",
       "      <td>...</td>\n",
       "      <td>-0.202536</td>\n",
       "      <td>-0.088692</td>\n",
       "      <td>0.086652</td>\n",
       "      <td>-0.094707</td>\n",
       "      <td>0.150268</td>\n",
       "      <td>-0.155089</td>\n",
       "      <td>0.011167</td>\n",
       "      <td>-0.008036</td>\n",
       "      <td>-0.177334</td>\n",
       "      <td>0.108982</td>\n",
       "    </tr>\n",
       "    <tr>\n",
       "      <th>Sig_Population_Change</th>\n",
       "      <td>-0.203048</td>\n",
       "      <td>0.203048</td>\n",
       "      <td>0.094041</td>\n",
       "      <td>-0.094041</td>\n",
       "      <td>-0.170768</td>\n",
       "      <td>0.473339</td>\n",
       "      <td>-0.097448</td>\n",
       "      <td>0.119203</td>\n",
       "      <td>0.011419</td>\n",
       "      <td>0.178808</td>\n",
       "      <td>...</td>\n",
       "      <td>0.048924</td>\n",
       "      <td>0.028905</td>\n",
       "      <td>0.235115</td>\n",
       "      <td>-0.180180</td>\n",
       "      <td>0.348830</td>\n",
       "      <td>-0.122634</td>\n",
       "      <td>0.206032</td>\n",
       "      <td>0.060077</td>\n",
       "      <td>-0.087735</td>\n",
       "      <td>0.348038</td>\n",
       "    </tr>\n",
       "    <tr>\n",
       "      <th>Educated_County</th>\n",
       "      <td>-0.338145</td>\n",
       "      <td>0.338145</td>\n",
       "      <td>0.268253</td>\n",
       "      <td>-0.268253</td>\n",
       "      <td>-0.254740</td>\n",
       "      <td>0.437223</td>\n",
       "      <td>-0.010309</td>\n",
       "      <td>0.107434</td>\n",
       "      <td>-0.064247</td>\n",
       "      <td>0.143353</td>\n",
       "      <td>...</td>\n",
       "      <td>0.022645</td>\n",
       "      <td>0.107951</td>\n",
       "      <td>0.099429</td>\n",
       "      <td>-0.110591</td>\n",
       "      <td>0.460467</td>\n",
       "      <td>-0.194935</td>\n",
       "      <td>0.319460</td>\n",
       "      <td>0.027663</td>\n",
       "      <td>-0.158086</td>\n",
       "      <td>0.273677</td>\n",
       "    </tr>\n",
       "    <tr>\n",
       "      <th>Undereducated_County</th>\n",
       "      <td>0.008456</td>\n",
       "      <td>-0.008456</td>\n",
       "      <td>-0.067049</td>\n",
       "      <td>0.067049</td>\n",
       "      <td>0.031622</td>\n",
       "      <td>-0.099533</td>\n",
       "      <td>-0.107474</td>\n",
       "      <td>-0.037289</td>\n",
       "      <td>-0.028244</td>\n",
       "      <td>-0.037978</td>\n",
       "      <td>...</td>\n",
       "      <td>0.277875</td>\n",
       "      <td>0.126112</td>\n",
       "      <td>0.140009</td>\n",
       "      <td>-0.118953</td>\n",
       "      <td>-0.360293</td>\n",
       "      <td>0.498226</td>\n",
       "      <td>-0.067218</td>\n",
       "      <td>-0.022698</td>\n",
       "      <td>-0.071741</td>\n",
       "      <td>0.074016</td>\n",
       "    </tr>\n",
       "    <tr>\n",
       "      <th>Whiter_County</th>\n",
       "      <td>0.175768</td>\n",
       "      <td>-0.175768</td>\n",
       "      <td>-0.147909</td>\n",
       "      <td>0.147909</td>\n",
       "      <td>0.168342</td>\n",
       "      <td>-0.173623</td>\n",
       "      <td>-0.004953</td>\n",
       "      <td>-0.044933</td>\n",
       "      <td>0.010989</td>\n",
       "      <td>0.030984</td>\n",
       "      <td>...</td>\n",
       "      <td>-0.329318</td>\n",
       "      <td>-0.186064</td>\n",
       "      <td>-0.247305</td>\n",
       "      <td>0.245160</td>\n",
       "      <td>-0.055262</td>\n",
       "      <td>-0.130892</td>\n",
       "      <td>-0.124443</td>\n",
       "      <td>-0.001439</td>\n",
       "      <td>0.131142</td>\n",
       "      <td>-0.239788</td>\n",
       "    </tr>\n",
       "    <tr>\n",
       "      <th>Blacker_County</th>\n",
       "      <td>-0.262642</td>\n",
       "      <td>0.262642</td>\n",
       "      <td>0.220826</td>\n",
       "      <td>-0.220826</td>\n",
       "      <td>-0.175447</td>\n",
       "      <td>0.058812</td>\n",
       "      <td>-0.012625</td>\n",
       "      <td>0.002538</td>\n",
       "      <td>-0.172808</td>\n",
       "      <td>-0.202536</td>\n",
       "      <td>...</td>\n",
       "      <td>1.000000</td>\n",
       "      <td>0.418339</td>\n",
       "      <td>-0.037874</td>\n",
       "      <td>-0.186044</td>\n",
       "      <td>-0.064088</td>\n",
       "      <td>0.292075</td>\n",
       "      <td>0.234082</td>\n",
       "      <td>-0.130600</td>\n",
       "      <td>-0.244123</td>\n",
       "      <td>0.060911</td>\n",
       "    </tr>\n",
       "    <tr>\n",
       "      <th>More_Female_County</th>\n",
       "      <td>-0.180803</td>\n",
       "      <td>0.180803</td>\n",
       "      <td>0.156444</td>\n",
       "      <td>-0.156444</td>\n",
       "      <td>-0.125471</td>\n",
       "      <td>0.073347</td>\n",
       "      <td>-0.013025</td>\n",
       "      <td>-0.035807</td>\n",
       "      <td>-0.091293</td>\n",
       "      <td>-0.088692</td>\n",
       "      <td>...</td>\n",
       "      <td>0.418339</td>\n",
       "      <td>1.000000</td>\n",
       "      <td>-0.103750</td>\n",
       "      <td>-0.047611</td>\n",
       "      <td>-0.077034</td>\n",
       "      <td>0.173800</td>\n",
       "      <td>0.212003</td>\n",
       "      <td>-0.060610</td>\n",
       "      <td>-0.216342</td>\n",
       "      <td>0.000196</td>\n",
       "    </tr>\n",
       "    <tr>\n",
       "      <th>More_Hispanic_County</th>\n",
       "      <td>-0.149045</td>\n",
       "      <td>0.149045</td>\n",
       "      <td>0.083517</td>\n",
       "      <td>-0.083517</td>\n",
       "      <td>-0.151540</td>\n",
       "      <td>0.336514</td>\n",
       "      <td>-0.057129</td>\n",
       "      <td>0.058255</td>\n",
       "      <td>0.045710</td>\n",
       "      <td>0.086652</td>\n",
       "      <td>...</td>\n",
       "      <td>-0.037874</td>\n",
       "      <td>-0.103750</td>\n",
       "      <td>1.000000</td>\n",
       "      <td>-0.080707</td>\n",
       "      <td>0.102007</td>\n",
       "      <td>-0.008991</td>\n",
       "      <td>0.161151</td>\n",
       "      <td>0.034700</td>\n",
       "      <td>0.103050</td>\n",
       "      <td>0.673877</td>\n",
       "    </tr>\n",
       "    <tr>\n",
       "      <th>Older_County</th>\n",
       "      <td>0.161277</td>\n",
       "      <td>-0.161277</td>\n",
       "      <td>-0.123347</td>\n",
       "      <td>0.123347</td>\n",
       "      <td>0.086891</td>\n",
       "      <td>-0.136847</td>\n",
       "      <td>0.017280</td>\n",
       "      <td>-0.034984</td>\n",
       "      <td>0.072897</td>\n",
       "      <td>-0.094707</td>\n",
       "      <td>...</td>\n",
       "      <td>-0.186044</td>\n",
       "      <td>-0.047611</td>\n",
       "      <td>-0.080707</td>\n",
       "      <td>1.000000</td>\n",
       "      <td>-0.195568</td>\n",
       "      <td>-0.096956</td>\n",
       "      <td>-0.109088</td>\n",
       "      <td>0.038708</td>\n",
       "      <td>0.380305</td>\n",
       "      <td>-0.149656</td>\n",
       "    </tr>\n",
       "    <tr>\n",
       "      <th>Wealthier_County</th>\n",
       "      <td>-0.153337</td>\n",
       "      <td>0.153337</td>\n",
       "      <td>0.119644</td>\n",
       "      <td>-0.119644</td>\n",
       "      <td>-0.117639</td>\n",
       "      <td>0.292276</td>\n",
       "      <td>0.001739</td>\n",
       "      <td>0.080276</td>\n",
       "      <td>-0.038525</td>\n",
       "      <td>0.150268</td>\n",
       "      <td>...</td>\n",
       "      <td>-0.064088</td>\n",
       "      <td>-0.077034</td>\n",
       "      <td>0.102007</td>\n",
       "      <td>-0.195568</td>\n",
       "      <td>1.000000</td>\n",
       "      <td>-0.336095</td>\n",
       "      <td>0.165238</td>\n",
       "      <td>0.048144</td>\n",
       "      <td>-0.106288</td>\n",
       "      <td>0.221637</td>\n",
       "    </tr>\n",
       "    <tr>\n",
       "      <th>Poorer_County</th>\n",
       "      <td>-0.135471</td>\n",
       "      <td>0.135471</td>\n",
       "      <td>0.091156</td>\n",
       "      <td>-0.091156</td>\n",
       "      <td>-0.070026</td>\n",
       "      <td>-0.062770</td>\n",
       "      <td>-0.040612</td>\n",
       "      <td>0.009593</td>\n",
       "      <td>-0.074605</td>\n",
       "      <td>-0.155089</td>\n",
       "      <td>...</td>\n",
       "      <td>0.292075</td>\n",
       "      <td>0.173800</td>\n",
       "      <td>-0.008991</td>\n",
       "      <td>-0.096956</td>\n",
       "      <td>-0.336095</td>\n",
       "      <td>1.000000</td>\n",
       "      <td>-0.030750</td>\n",
       "      <td>-0.095492</td>\n",
       "      <td>-0.028851</td>\n",
       "      <td>-0.016248</td>\n",
       "    </tr>\n",
       "    <tr>\n",
       "      <th>Denser_County</th>\n",
       "      <td>-0.409308</td>\n",
       "      <td>0.409308</td>\n",
       "      <td>0.323132</td>\n",
       "      <td>-0.323132</td>\n",
       "      <td>-0.268227</td>\n",
       "      <td>0.310654</td>\n",
       "      <td>-0.023480</td>\n",
       "      <td>0.102315</td>\n",
       "      <td>-0.068851</td>\n",
       "      <td>0.011167</td>\n",
       "      <td>...</td>\n",
       "      <td>0.234082</td>\n",
       "      <td>0.212003</td>\n",
       "      <td>0.161151</td>\n",
       "      <td>-0.109088</td>\n",
       "      <td>0.165238</td>\n",
       "      <td>-0.030750</td>\n",
       "      <td>1.000000</td>\n",
       "      <td>0.046890</td>\n",
       "      <td>-0.133442</td>\n",
       "      <td>0.316611</td>\n",
       "    </tr>\n",
       "    <tr>\n",
       "      <th>FIPS</th>\n",
       "      <td>0.023924</td>\n",
       "      <td>-0.023924</td>\n",
       "      <td>-0.012385</td>\n",
       "      <td>0.012385</td>\n",
       "      <td>0.036422</td>\n",
       "      <td>0.014163</td>\n",
       "      <td>0.013993</td>\n",
       "      <td>0.001064</td>\n",
       "      <td>0.152450</td>\n",
       "      <td>-0.008036</td>\n",
       "      <td>...</td>\n",
       "      <td>-0.130600</td>\n",
       "      <td>-0.060610</td>\n",
       "      <td>0.034700</td>\n",
       "      <td>0.038708</td>\n",
       "      <td>0.048144</td>\n",
       "      <td>-0.095492</td>\n",
       "      <td>0.046890</td>\n",
       "      <td>1.000000</td>\n",
       "      <td>0.063653</td>\n",
       "      <td>0.010455</td>\n",
       "    </tr>\n",
       "    <tr>\n",
       "      <th>Rural_County</th>\n",
       "      <td>0.106740</td>\n",
       "      <td>-0.106740</td>\n",
       "      <td>-0.114863</td>\n",
       "      <td>0.114863</td>\n",
       "      <td>-0.052036</td>\n",
       "      <td>-0.120267</td>\n",
       "      <td>-0.044042</td>\n",
       "      <td>-0.029612</td>\n",
       "      <td>0.234732</td>\n",
       "      <td>-0.177334</td>\n",
       "      <td>...</td>\n",
       "      <td>-0.244123</td>\n",
       "      <td>-0.216342</td>\n",
       "      <td>0.103050</td>\n",
       "      <td>0.380305</td>\n",
       "      <td>-0.106288</td>\n",
       "      <td>-0.028851</td>\n",
       "      <td>-0.133442</td>\n",
       "      <td>0.063653</td>\n",
       "      <td>1.000000</td>\n",
       "      <td>-0.050136</td>\n",
       "    </tr>\n",
       "    <tr>\n",
       "      <th>Immigrant_County</th>\n",
       "      <td>-0.306069</td>\n",
       "      <td>0.306069</td>\n",
       "      <td>0.196577</td>\n",
       "      <td>-0.196577</td>\n",
       "      <td>-0.258915</td>\n",
       "      <td>0.468364</td>\n",
       "      <td>-0.076941</td>\n",
       "      <td>0.119634</td>\n",
       "      <td>-0.010801</td>\n",
       "      <td>0.108982</td>\n",
       "      <td>...</td>\n",
       "      <td>0.060911</td>\n",
       "      <td>0.000196</td>\n",
       "      <td>0.673877</td>\n",
       "      <td>-0.149656</td>\n",
       "      <td>0.221637</td>\n",
       "      <td>-0.016248</td>\n",
       "      <td>0.316611</td>\n",
       "      <td>0.010455</td>\n",
       "      <td>-0.050136</td>\n",
       "      <td>1.000000</td>\n",
       "    </tr>\n",
       "  </tbody>\n",
       "</table>\n",
       "<p>24 rows × 24 columns</p>\n",
       "</div>"
      ],
      "text/plain": [
       "                       Trump_Win  Clinton_Win  Obama_Win  Romney_Win  \\\n",
       "Trump_Win               1.000000    -1.000000  -0.764808    0.764808   \n",
       "Clinton_Win            -1.000000     1.000000   0.764808   -0.764808   \n",
       "Obama_Win              -0.764808     0.764808   1.000000   -1.000000   \n",
       "Romney_Win              0.764808    -0.764808  -1.000000    1.000000   \n",
       "More_Republican         0.372652    -0.372652  -0.251218    0.251218   \n",
       "More_Democratic        -0.308569     0.308569   0.175042   -0.175042   \n",
       "Trump_Flip              0.116812    -0.116812   0.523178   -0.523178   \n",
       "Clinton_Flip           -0.185268     0.185268  -0.041366    0.041366   \n",
       "Huge_Price_Swing        0.123699    -0.123699  -0.119976    0.119976   \n",
       "Turnout_Increase        0.132986    -0.132986  -0.211125    0.211125   \n",
       "Sig_Population_Change  -0.203048     0.203048   0.094041   -0.094041   \n",
       "Educated_County        -0.338145     0.338145   0.268253   -0.268253   \n",
       "Undereducated_County    0.008456    -0.008456  -0.067049    0.067049   \n",
       "Whiter_County           0.175768    -0.175768  -0.147909    0.147909   \n",
       "Blacker_County         -0.262642     0.262642   0.220826   -0.220826   \n",
       "More_Female_County     -0.180803     0.180803   0.156444   -0.156444   \n",
       "More_Hispanic_County   -0.149045     0.149045   0.083517   -0.083517   \n",
       "Older_County            0.161277    -0.161277  -0.123347    0.123347   \n",
       "Wealthier_County       -0.153337     0.153337   0.119644   -0.119644   \n",
       "Poorer_County          -0.135471     0.135471   0.091156   -0.091156   \n",
       "Denser_County          -0.409308     0.409308   0.323132   -0.323132   \n",
       "FIPS                    0.023924    -0.023924  -0.012385    0.012385   \n",
       "Rural_County            0.106740    -0.106740  -0.114863    0.114863   \n",
       "Immigrant_County       -0.306069     0.306069   0.196577   -0.196577   \n",
       "\n",
       "                       More_Republican  More_Democratic  Trump_Flip  \\\n",
       "Trump_Win                     0.372652        -0.308569    0.116812   \n",
       "Clinton_Win                  -0.372652         0.308569   -0.116812   \n",
       "Obama_Win                    -0.251218         0.175042    0.523178   \n",
       "Romney_Win                    0.251218        -0.175042   -0.523178   \n",
       "More_Republican               1.000000        -0.224167    0.080190   \n",
       "More_Democratic              -0.224167         1.000000   -0.095188   \n",
       "Trump_Flip                    0.080190        -0.095188    1.000000   \n",
       "Clinton_Flip                 -0.127191         0.184967   -0.021642   \n",
       "Huge_Price_Swing              0.060100        -0.050002   -0.025855   \n",
       "Turnout_Increase              0.294265         0.240971   -0.138936   \n",
       "Sig_Population_Change        -0.170768         0.473339   -0.097448   \n",
       "Educated_County              -0.254740         0.437223   -0.010309   \n",
       "Undereducated_County          0.031622        -0.099533   -0.107474   \n",
       "Whiter_County                 0.168342        -0.173623   -0.004953   \n",
       "Blacker_County               -0.175447         0.058812   -0.012625   \n",
       "More_Female_County           -0.125471         0.073347   -0.013025   \n",
       "More_Hispanic_County         -0.151540         0.336514   -0.057129   \n",
       "Older_County                  0.086891        -0.136847    0.017280   \n",
       "Wealthier_County             -0.117639         0.292276    0.001739   \n",
       "Poorer_County                -0.070026        -0.062770   -0.040612   \n",
       "Denser_County                -0.268227         0.310654   -0.023480   \n",
       "FIPS                          0.036422         0.014163    0.013993   \n",
       "Rural_County                 -0.052036        -0.120267   -0.044042   \n",
       "Immigrant_County             -0.258915         0.468364   -0.076941   \n",
       "\n",
       "                       Clinton_Flip  Huge_Price_Swing  Turnout_Increase  \\\n",
       "Trump_Win                 -0.185268          0.123699          0.132986   \n",
       "Clinton_Win                0.185268         -0.123699         -0.132986   \n",
       "Obama_Win                 -0.041366         -0.119976         -0.211125   \n",
       "Romney_Win                 0.041366          0.119976          0.211125   \n",
       "More_Republican           -0.127191          0.060100          0.294265   \n",
       "More_Democratic            0.184967         -0.050002          0.240971   \n",
       "Trump_Flip                -0.021642         -0.025855         -0.138936   \n",
       "Clinton_Flip               1.000000         -0.021116          0.046537   \n",
       "Huge_Price_Swing          -0.021116          1.000000          0.020746   \n",
       "Turnout_Increase           0.046537          0.020746          1.000000   \n",
       "Sig_Population_Change      0.119203          0.011419          0.178808   \n",
       "Educated_County            0.107434         -0.064247          0.143353   \n",
       "Undereducated_County      -0.037289         -0.028244         -0.037978   \n",
       "Whiter_County             -0.044933          0.010989          0.030984   \n",
       "Blacker_County             0.002538         -0.172808         -0.202536   \n",
       "More_Female_County        -0.035807         -0.091293         -0.088692   \n",
       "More_Hispanic_County       0.058255          0.045710          0.086652   \n",
       "Older_County              -0.034984          0.072897         -0.094707   \n",
       "Wealthier_County           0.080276         -0.038525          0.150268   \n",
       "Poorer_County              0.009593         -0.074605         -0.155089   \n",
       "Denser_County              0.102315         -0.068851          0.011167   \n",
       "FIPS                       0.001064          0.152450         -0.008036   \n",
       "Rural_County              -0.029612          0.234732         -0.177334   \n",
       "Immigrant_County           0.119634         -0.010801          0.108982   \n",
       "\n",
       "                             ...         Blacker_County  More_Female_County  \\\n",
       "Trump_Win                    ...              -0.262642           -0.180803   \n",
       "Clinton_Win                  ...               0.262642            0.180803   \n",
       "Obama_Win                    ...               0.220826            0.156444   \n",
       "Romney_Win                   ...              -0.220826           -0.156444   \n",
       "More_Republican              ...              -0.175447           -0.125471   \n",
       "More_Democratic              ...               0.058812            0.073347   \n",
       "Trump_Flip                   ...              -0.012625           -0.013025   \n",
       "Clinton_Flip                 ...               0.002538           -0.035807   \n",
       "Huge_Price_Swing             ...              -0.172808           -0.091293   \n",
       "Turnout_Increase             ...              -0.202536           -0.088692   \n",
       "Sig_Population_Change        ...               0.048924            0.028905   \n",
       "Educated_County              ...               0.022645            0.107951   \n",
       "Undereducated_County         ...               0.277875            0.126112   \n",
       "Whiter_County                ...              -0.329318           -0.186064   \n",
       "Blacker_County               ...               1.000000            0.418339   \n",
       "More_Female_County           ...               0.418339            1.000000   \n",
       "More_Hispanic_County         ...              -0.037874           -0.103750   \n",
       "Older_County                 ...              -0.186044           -0.047611   \n",
       "Wealthier_County             ...              -0.064088           -0.077034   \n",
       "Poorer_County                ...               0.292075            0.173800   \n",
       "Denser_County                ...               0.234082            0.212003   \n",
       "FIPS                         ...              -0.130600           -0.060610   \n",
       "Rural_County                 ...              -0.244123           -0.216342   \n",
       "Immigrant_County             ...               0.060911            0.000196   \n",
       "\n",
       "                       More_Hispanic_County  Older_County  Wealthier_County  \\\n",
       "Trump_Win                         -0.149045      0.161277         -0.153337   \n",
       "Clinton_Win                        0.149045     -0.161277          0.153337   \n",
       "Obama_Win                          0.083517     -0.123347          0.119644   \n",
       "Romney_Win                        -0.083517      0.123347         -0.119644   \n",
       "More_Republican                   -0.151540      0.086891         -0.117639   \n",
       "More_Democratic                    0.336514     -0.136847          0.292276   \n",
       "Trump_Flip                        -0.057129      0.017280          0.001739   \n",
       "Clinton_Flip                       0.058255     -0.034984          0.080276   \n",
       "Huge_Price_Swing                   0.045710      0.072897         -0.038525   \n",
       "Turnout_Increase                   0.086652     -0.094707          0.150268   \n",
       "Sig_Population_Change              0.235115     -0.180180          0.348830   \n",
       "Educated_County                    0.099429     -0.110591          0.460467   \n",
       "Undereducated_County               0.140009     -0.118953         -0.360293   \n",
       "Whiter_County                     -0.247305      0.245160         -0.055262   \n",
       "Blacker_County                    -0.037874     -0.186044         -0.064088   \n",
       "More_Female_County                -0.103750     -0.047611         -0.077034   \n",
       "More_Hispanic_County               1.000000     -0.080707          0.102007   \n",
       "Older_County                      -0.080707      1.000000         -0.195568   \n",
       "Wealthier_County                   0.102007     -0.195568          1.000000   \n",
       "Poorer_County                     -0.008991     -0.096956         -0.336095   \n",
       "Denser_County                      0.161151     -0.109088          0.165238   \n",
       "FIPS                               0.034700      0.038708          0.048144   \n",
       "Rural_County                       0.103050      0.380305         -0.106288   \n",
       "Immigrant_County                   0.673877     -0.149656          0.221637   \n",
       "\n",
       "                       Poorer_County  Denser_County      FIPS  Rural_County  \\\n",
       "Trump_Win                  -0.135471      -0.409308  0.023924      0.106740   \n",
       "Clinton_Win                 0.135471       0.409308 -0.023924     -0.106740   \n",
       "Obama_Win                   0.091156       0.323132 -0.012385     -0.114863   \n",
       "Romney_Win                 -0.091156      -0.323132  0.012385      0.114863   \n",
       "More_Republican            -0.070026      -0.268227  0.036422     -0.052036   \n",
       "More_Democratic            -0.062770       0.310654  0.014163     -0.120267   \n",
       "Trump_Flip                 -0.040612      -0.023480  0.013993     -0.044042   \n",
       "Clinton_Flip                0.009593       0.102315  0.001064     -0.029612   \n",
       "Huge_Price_Swing           -0.074605      -0.068851  0.152450      0.234732   \n",
       "Turnout_Increase           -0.155089       0.011167 -0.008036     -0.177334   \n",
       "Sig_Population_Change      -0.122634       0.206032  0.060077     -0.087735   \n",
       "Educated_County            -0.194935       0.319460  0.027663     -0.158086   \n",
       "Undereducated_County        0.498226      -0.067218 -0.022698     -0.071741   \n",
       "Whiter_County              -0.130892      -0.124443 -0.001439      0.131142   \n",
       "Blacker_County              0.292075       0.234082 -0.130600     -0.244123   \n",
       "More_Female_County          0.173800       0.212003 -0.060610     -0.216342   \n",
       "More_Hispanic_County       -0.008991       0.161151  0.034700      0.103050   \n",
       "Older_County               -0.096956      -0.109088  0.038708      0.380305   \n",
       "Wealthier_County           -0.336095       0.165238  0.048144     -0.106288   \n",
       "Poorer_County               1.000000      -0.030750 -0.095492     -0.028851   \n",
       "Denser_County              -0.030750       1.000000  0.046890     -0.133442   \n",
       "FIPS                       -0.095492       0.046890  1.000000      0.063653   \n",
       "Rural_County               -0.028851      -0.133442  0.063653      1.000000   \n",
       "Immigrant_County           -0.016248       0.316611  0.010455     -0.050136   \n",
       "\n",
       "                       Immigrant_County  \n",
       "Trump_Win                     -0.306069  \n",
       "Clinton_Win                    0.306069  \n",
       "Obama_Win                      0.196577  \n",
       "Romney_Win                    -0.196577  \n",
       "More_Republican               -0.258915  \n",
       "More_Democratic                0.468364  \n",
       "Trump_Flip                    -0.076941  \n",
       "Clinton_Flip                   0.119634  \n",
       "Huge_Price_Swing              -0.010801  \n",
       "Turnout_Increase               0.108982  \n",
       "Sig_Population_Change          0.348038  \n",
       "Educated_County                0.273677  \n",
       "Undereducated_County           0.074016  \n",
       "Whiter_County                 -0.239788  \n",
       "Blacker_County                 0.060911  \n",
       "More_Female_County             0.000196  \n",
       "More_Hispanic_County           0.673877  \n",
       "Older_County                  -0.149656  \n",
       "Wealthier_County               0.221637  \n",
       "Poorer_County                 -0.016248  \n",
       "Denser_County                  0.316611  \n",
       "FIPS                           0.010455  \n",
       "Rural_County                  -0.050136  \n",
       "Immigrant_County               1.000000  \n",
       "\n",
       "[24 rows x 24 columns]"
      ]
     },
     "execution_count": 18,
     "metadata": {},
     "output_type": "execute_result"
    }
   ],
   "source": [
    "sherlock_holmes.corr()"
   ]
  },
  {
   "cell_type": "markdown",
   "metadata": {},
   "source": [
    "Very quickly, what stood out to me was: \"Could it be that there is a value of .52 for counties Obama won which eventually flipped to Donald Trump?!\". I had to inspect this a bit more."
   ]
  },
  {
   "cell_type": "code",
   "execution_count": 19,
   "metadata": {
    "collapsed": false
   },
   "outputs": [
    {
     "data": {
      "text/plain": [
       "0    2423\n",
       "1     671\n",
       "Name: Obama_Win, dtype: int64"
      ]
     },
     "execution_count": 19,
     "metadata": {},
     "output_type": "execute_result"
    }
   ],
   "source": [
    "sherlock_holmes['Obama_Win'].value_counts()"
   ]
  },
  {
   "cell_type": "code",
   "execution_count": 20,
   "metadata": {
    "collapsed": false
   },
   "outputs": [
    {
     "data": {
      "text/plain": [
       "0    2876\n",
       "1     218\n",
       "Name: Trump_Flip, dtype: int64"
      ]
     },
     "execution_count": 20,
     "metadata": {},
     "output_type": "execute_result"
    }
   ],
   "source": [
    "sherlock_holmes['Trump_Flip'].value_counts()"
   ]
  },
  {
   "cell_type": "markdown",
   "metadata": {},
   "source": [
    "Well, I guess that smells right. And for what it's worth, there were a few others which intuitively do line up. For counties that Hillary Clinton ended up winning, they were `Denser`, `Blacker`, `Wealthier`, `More_Female`, `More_Hispanic`, `Educated`, and `Significant_Population_Change`, which to me screams: big cities that a lot of people are moving to. \n",
    "\n",
    "And for a county that Donald Trump ended up winning, they were `Whiter`, `Older`, `Rural`, and `Huge_Price_Swing`. In other words, counties which seem to line up with our intuition. And the correlations are also intuitively the converse for each candidate. Trump won counties, for example, which experienced population decreases or no big increases -- most likely the effect of brain drain or other macroeconomic reasons."
   ]
  },
  {
   "cell_type": "markdown",
   "metadata": {},
   "source": [
    "So with this, I decided to run a logistic regression to see how well my training model could predict a county that will flip to Trump with the following features: `Huge_Price_Swing` and `Obama_Win`."
   ]
  },
  {
   "cell_type": "code",
   "execution_count": 38,
   "metadata": {
    "collapsed": true
   },
   "outputs": [],
   "source": [
    "feature_cols = ['Huge_Price_Swing', 'Obama_Win'] \n",
    "X = sherlock_holmes[feature_cols]\n",
    "y = sherlock_holmes['Trump_Win']"
   ]
  },
  {
   "cell_type": "code",
   "execution_count": 39,
   "metadata": {
    "collapsed": true
   },
   "outputs": [],
   "source": [
    "from sklearn.model_selection import train_test_split\n",
    "X_train, X_test, y_train, y_test = train_test_split(X, y)"
   ]
  },
  {
   "cell_type": "code",
   "execution_count": 40,
   "metadata": {
    "collapsed": true
   },
   "outputs": [],
   "source": [
    "from sklearn.model_selection import ShuffleSplit\n",
    "cv = ShuffleSplit(n_splits=4, test_size=0.2)"
   ]
  },
  {
   "cell_type": "code",
   "execution_count": 41,
   "metadata": {
    "collapsed": true
   },
   "outputs": [],
   "source": [
    "from sklearn.preprocessing import StandardScaler\n",
    "stdsc = StandardScaler()\n",
    "X_train_std = stdsc.fit_transform(X_train)\n",
    "X_test_std = stdsc.transform(X_test)"
   ]
  },
  {
   "cell_type": "code",
   "execution_count": 42,
   "metadata": {
    "collapsed": true
   },
   "outputs": [],
   "source": [
    "from sklearn.linear_model import LogisticRegression\n",
    "logreg = LogisticRegression(C=10)"
   ]
  },
  {
   "cell_type": "code",
   "execution_count": 43,
   "metadata": {
    "collapsed": false
   },
   "outputs": [
    {
     "data": {
      "text/plain": [
       "[('Huge_Price_Swing', 0.36036884062608088), ('Obama_Win', -2.2793813743741529)]"
      ]
     },
     "execution_count": 43,
     "metadata": {},
     "output_type": "execute_result"
    }
   ],
   "source": [
    "logreg.fit(X_train_std, y_train)\n",
    "zip(feature_cols, logreg.coef_[0])"
   ]
  },
  {
   "cell_type": "code",
   "execution_count": 44,
   "metadata": {
    "collapsed": true
   },
   "outputs": [],
   "source": [
    "y_pred_class = logreg.predict(X_test_std)"
   ]
  },
  {
   "cell_type": "code",
   "execution_count": 45,
   "metadata": {
    "collapsed": false
   },
   "outputs": [
    {
     "name": "stdout",
     "output_type": "stream",
     "text": [
      "0.923772609819\n"
     ]
    }
   ],
   "source": [
    "from sklearn import metrics\n",
    "print metrics.accuracy_score(y_test, y_pred_class)"
   ]
  },
  {
   "cell_type": "code",
   "execution_count": 46,
   "metadata": {
    "collapsed": false
   },
   "outputs": [
    {
     "data": {
      "text/plain": [
       "GridSearchCV(cv=ShuffleSplit(n_splits=4, random_state=None, test_size=0.2, train_size=None),\n",
       "       error_score='raise',\n",
       "       estimator=LogisticRegression(C=1.0, class_weight=None, dual=False, fit_intercept=True,\n",
       "          intercept_scaling=1, max_iter=100, multi_class='ovr', n_jobs=1,\n",
       "          penalty='l2', random_state=None, solver='liblinear', tol=0.0001,\n",
       "          verbose=0, warm_start=False),\n",
       "       fit_params={}, iid=True, n_jobs=1,\n",
       "       param_grid={'C': array([  1.00000e-05,   1.01010e+03, ...,   9.89899e+04,   1.00000e+05]), 'class_weight': [None, 'balanced']},\n",
       "       pre_dispatch='2*n_jobs', refit=True, return_train_score=True,\n",
       "       scoring=None, verbose=0)"
      ]
     },
     "execution_count": 46,
     "metadata": {},
     "output_type": "execute_result"
    }
   ],
   "source": [
    "from sklearn.model_selection import GridSearchCV\n",
    "parameters = {'C': np.linspace(1e-5, 1e5, 100), 'class_weight': [None, 'balanced']}\n",
    "logreg2 = LogisticRegression()           \n",
    "clf = GridSearchCV(logreg2, parameters, cv=cv)\n",
    "clf.fit(X_train_std, y_train)"
   ]
  },
  {
   "cell_type": "code",
   "execution_count": 47,
   "metadata": {
    "collapsed": false
   },
   "outputs": [
    {
     "data": {
      "text/plain": [
       "{'C': 1010.1010199999999, 'class_weight': None}"
      ]
     },
     "execution_count": 47,
     "metadata": {},
     "output_type": "execute_result"
    }
   ],
   "source": [
    "clf.best_params_"
   ]
  },
  {
   "cell_type": "code",
   "execution_count": 48,
   "metadata": {
    "collapsed": false
   },
   "outputs": [
    {
     "data": {
      "text/plain": [
       "0.93103448275862066"
      ]
     },
     "execution_count": 48,
     "metadata": {},
     "output_type": "execute_result"
    }
   ],
   "source": [
    "clf.best_score_"
   ]
  },
  {
   "cell_type": "code",
   "execution_count": 49,
   "metadata": {
    "collapsed": true
   },
   "outputs": [],
   "source": [
    "best_log = clf.best_estimator_"
   ]
  },
  {
   "cell_type": "code",
   "execution_count": 50,
   "metadata": {
    "collapsed": false
   },
   "outputs": [
    {
     "data": {
      "text/plain": [
       "0.92377260981912146"
      ]
     },
     "execution_count": 50,
     "metadata": {},
     "output_type": "execute_result"
    }
   ],
   "source": [
    "best_log.score(X_test_std, y_test)"
   ]
  },
  {
   "cell_type": "code",
   "execution_count": 51,
   "metadata": {
    "collapsed": false
   },
   "outputs": [
    {
     "data": {
      "text/html": [
       "<div>\n",
       "<table border=\"1\" class=\"dataframe\">\n",
       "  <thead>\n",
       "    <tr style=\"text-align: right;\">\n",
       "      <th></th>\n",
       "      <th>Huge_Price_Swing</th>\n",
       "      <th>Obama_Win</th>\n",
       "    </tr>\n",
       "  </thead>\n",
       "  <tbody>\n",
       "    <tr>\n",
       "      <th>2842</th>\n",
       "      <td>0</td>\n",
       "      <td>0</td>\n",
       "    </tr>\n",
       "    <tr>\n",
       "      <th>2972</th>\n",
       "      <td>0</td>\n",
       "      <td>0</td>\n",
       "    </tr>\n",
       "    <tr>\n",
       "      <th>3004</th>\n",
       "      <td>0</td>\n",
       "      <td>0</td>\n",
       "    </tr>\n",
       "    <tr>\n",
       "      <th>543</th>\n",
       "      <td>0</td>\n",
       "      <td>1</td>\n",
       "    </tr>\n",
       "    <tr>\n",
       "      <th>4140</th>\n",
       "      <td>0</td>\n",
       "      <td>0</td>\n",
       "    </tr>\n",
       "    <tr>\n",
       "      <th>7315</th>\n",
       "      <td>1</td>\n",
       "      <td>0</td>\n",
       "    </tr>\n",
       "    <tr>\n",
       "      <th>3089</th>\n",
       "      <td>0</td>\n",
       "      <td>0</td>\n",
       "    </tr>\n",
       "    <tr>\n",
       "      <th>6633</th>\n",
       "      <td>0</td>\n",
       "      <td>0</td>\n",
       "    </tr>\n",
       "    <tr>\n",
       "      <th>4743</th>\n",
       "      <td>0</td>\n",
       "      <td>0</td>\n",
       "    </tr>\n",
       "    <tr>\n",
       "      <th>8708</th>\n",
       "      <td>0</td>\n",
       "      <td>0</td>\n",
       "    </tr>\n",
       "  </tbody>\n",
       "</table>\n",
       "</div>"
      ],
      "text/plain": [
       "      Huge_Price_Swing  Obama_Win\n",
       "2842                 0          0\n",
       "2972                 0          0\n",
       "3004                 0          0\n",
       "543                  0          1\n",
       "4140                 0          0\n",
       "7315                 1          0\n",
       "3089                 0          0\n",
       "6633                 0          0\n",
       "4743                 0          0\n",
       "8708                 0          0"
      ]
     },
     "execution_count": 51,
     "metadata": {},
     "output_type": "execute_result"
    }
   ],
   "source": [
    "X_train.tail(10)"
   ]
  },
  {
   "cell_type": "code",
   "execution_count": 52,
   "metadata": {
    "collapsed": false
   },
   "outputs": [
    {
     "data": {
      "text/html": [
       "<div>\n",
       "<table border=\"1\" class=\"dataframe\">\n",
       "  <thead>\n",
       "    <tr style=\"text-align: right;\">\n",
       "      <th></th>\n",
       "      <th>coefficients</th>\n",
       "      <th>features</th>\n",
       "    </tr>\n",
       "  </thead>\n",
       "  <tbody>\n",
       "    <tr>\n",
       "      <th>0</th>\n",
       "      <td>0.362070</td>\n",
       "      <td>Huge_Price_Swing</td>\n",
       "    </tr>\n",
       "    <tr>\n",
       "      <th>1</th>\n",
       "      <td>-2.290492</td>\n",
       "      <td>Obama_Win</td>\n",
       "    </tr>\n",
       "  </tbody>\n",
       "</table>\n",
       "</div>"
      ],
      "text/plain": [
       "   coefficients          features\n",
       "0      0.362070  Huge_Price_Swing\n",
       "1     -2.290492         Obama_Win"
      ]
     },
     "execution_count": 52,
     "metadata": {},
     "output_type": "execute_result"
    }
   ],
   "source": [
    "pd.DataFrame({'features': X.columns, 'coefficients': best_log.coef_[0]})"
   ]
  },
  {
   "cell_type": "code",
   "execution_count": 53,
   "metadata": {
    "collapsed": true
   },
   "outputs": [],
   "source": [
    "import matplotlib.pyplot as plt\n",
    "from sk_modelcurves.learning_curve import draw_learning_curve\n",
    "%matplotlib inline"
   ]
  },
  {
   "cell_type": "code",
   "execution_count": 54,
   "metadata": {
    "collapsed": false
   },
   "outputs": [
    {
     "data": {
      "image/png": "[encoded data removed]",
      "text/plain": [
       "<matplotlib.figure.Figure at 0x111dd6750>"
      ]
     },
     "metadata": {},
     "output_type": "display_data"
    }
   ],
   "source": [
    "draw_learning_curve(best_log, X_train_std, y_train, scoring='accuracy', cv=cv);"
   ]
  },
  {
   "cell_type": "markdown",
   "metadata": {},
   "source": [
    "For this, it appears my coefficients were not as strong as I intended; however, my actual intuition tells me the regression test itself given the sample size of my data might lead to some inconsistent results with respect to strength. You might notice the sequence of my code runs higher than the number of code blocks you see. That is the result of my testing the code and model a few times to elicit some semblance of consistenc response. \n",
    "\n",
    "With that, I do think with two features like `Trump_Win` and `Obama_Win` that are as strong correlated in my `sherlock_holmes`.corr() code, and the low number of observations to begin with, I might be risking some overfitting and/or not exposing myself to newer features. \n",
    "\n",
    "What I now intend to explore, is choosing some features that I would like to train against a `Trump_Win`, to perhaps better understand some of the conditions that made his election more likely than not."
   ]
  },
  {
   "cell_type": "code",
   "execution_count": 72,
   "metadata": {
    "collapsed": true
   },
   "outputs": [],
   "source": [
    "feature_cols = ['Whiter_County', 'Rural_County', 'Undereducated_County', 'Turnout_Increase'] \n",
    "X = sherlock_holmes[feature_cols]\n",
    "y = sherlock_holmes['Trump_Win']"
   ]
  },
  {
   "cell_type": "code",
   "execution_count": 73,
   "metadata": {
    "collapsed": true
   },
   "outputs": [],
   "source": [
    "from sklearn.model_selection import train_test_split\n",
    "X_train, X_test, y_train, y_test = train_test_split(X, y)"
   ]
  },
  {
   "cell_type": "code",
   "execution_count": 74,
   "metadata": {
    "collapsed": true
   },
   "outputs": [],
   "source": [
    "from sklearn.model_selection import ShuffleSplit\n",
    "cv = ShuffleSplit(n_splits=4, test_size=0.2)"
   ]
  },
  {
   "cell_type": "code",
   "execution_count": 75,
   "metadata": {
    "collapsed": true
   },
   "outputs": [],
   "source": [
    "from sklearn.preprocessing import StandardScaler\n",
    "stdsc = StandardScaler()\n",
    "X_train_std = stdsc.fit_transform(X_train)\n",
    "X_test_std = stdsc.transform(X_test)"
   ]
  },
  {
   "cell_type": "code",
   "execution_count": 76,
   "metadata": {
    "collapsed": true
   },
   "outputs": [],
   "source": [
    "from sklearn.linear_model import LogisticRegression\n",
    "logreg = LogisticRegression(C=10)"
   ]
  },
  {
   "cell_type": "code",
   "execution_count": 77,
   "metadata": {
    "collapsed": false
   },
   "outputs": [
    {
     "data": {
      "text/plain": [
       "[('Whiter_County', 0.73714023922040828),\n",
       " ('Rural_County', 0.38366727780003107),\n",
       " ('Undereducated_County', 0.12467814171337319),\n",
       " ('Turnout_Increase', 0.34877837645056087)]"
      ]
     },
     "execution_count": 77,
     "metadata": {},
     "output_type": "execute_result"
    }
   ],
   "source": [
    "logreg.fit(X_train_std, y_train)\n",
    "zip(feature_cols, logreg.coef_[0])"
   ]
  },
  {
   "cell_type": "code",
   "execution_count": 78,
   "metadata": {
    "collapsed": true
   },
   "outputs": [],
   "source": [
    "y_pred_class = logreg.predict(X_test_std)"
   ]
  },
  {
   "cell_type": "code",
   "execution_count": 79,
   "metadata": {
    "collapsed": false
   },
   "outputs": [
    {
     "name": "stdout",
     "output_type": "stream",
     "text": [
      "0.848837209302\n"
     ]
    }
   ],
   "source": [
    "from sklearn import metrics\n",
    "print metrics.accuracy_score(y_test, y_pred_class)"
   ]
  },
  {
   "cell_type": "code",
   "execution_count": 80,
   "metadata": {
    "collapsed": false
   },
   "outputs": [
    {
     "data": {
      "text/plain": [
       "GridSearchCV(cv=ShuffleSplit(n_splits=4, random_state=None, test_size=0.2, train_size=None),\n",
       "       error_score='raise',\n",
       "       estimator=LogisticRegression(C=1.0, class_weight=None, dual=False, fit_intercept=True,\n",
       "          intercept_scaling=1, max_iter=100, multi_class='ovr', n_jobs=1,\n",
       "          penalty='l2', random_state=None, solver='liblinear', tol=0.0001,\n",
       "          verbose=0, warm_start=False),\n",
       "       fit_params={}, iid=True, n_jobs=1,\n",
       "       param_grid={'C': array([  1.00000e-05,   1.01010e+03, ...,   9.89899e+04,   1.00000e+05]), 'class_weight': [None, 'balanced']},\n",
       "       pre_dispatch='2*n_jobs', refit=True, return_train_score=True,\n",
       "       scoring=None, verbose=0)"
      ]
     },
     "execution_count": 80,
     "metadata": {},
     "output_type": "execute_result"
    }
   ],
   "source": [
    "from sklearn.model_selection import GridSearchCV\n",
    "parameters = {'C': np.linspace(1e-5, 1e5, 100), 'class_weight': [None, 'balanced']}\n",
    "logreg2 = LogisticRegression()           \n",
    "clf = GridSearchCV(logreg2, parameters, cv=cv)\n",
    "clf.fit(X_train_std, y_train)"
   ]
  },
  {
   "cell_type": "code",
   "execution_count": 81,
   "metadata": {
    "collapsed": false
   },
   "outputs": [
    {
     "data": {
      "text/plain": [
       "{'C': 1.0000000000000001e-05, 'class_weight': None}"
      ]
     },
     "execution_count": 81,
     "metadata": {},
     "output_type": "execute_result"
    }
   ],
   "source": [
    "clf.best_params_"
   ]
  },
  {
   "cell_type": "code",
   "execution_count": 82,
   "metadata": {
    "collapsed": false
   },
   "outputs": [
    {
     "data": {
      "text/plain": [
       "0.84536637931034486"
      ]
     },
     "execution_count": 82,
     "metadata": {},
     "output_type": "execute_result"
    }
   ],
   "source": [
    "clf.best_score_"
   ]
  },
  {
   "cell_type": "code",
   "execution_count": 83,
   "metadata": {
    "collapsed": true
   },
   "outputs": [],
   "source": [
    "best_log = clf.best_estimator_"
   ]
  },
  {
   "cell_type": "code",
   "execution_count": 84,
   "metadata": {
    "collapsed": false
   },
   "outputs": [
    {
     "data": {
      "text/plain": [
       "0.84883720930232553"
      ]
     },
     "execution_count": 84,
     "metadata": {},
     "output_type": "execute_result"
    }
   ],
   "source": [
    "best_log.score(X_test_std, y_test)"
   ]
  },
  {
   "cell_type": "code",
   "execution_count": 85,
   "metadata": {
    "collapsed": false
   },
   "outputs": [
    {
     "data": {
      "text/html": [
       "<div>\n",
       "<table border=\"1\" class=\"dataframe\">\n",
       "  <thead>\n",
       "    <tr style=\"text-align: right;\">\n",
       "      <th></th>\n",
       "      <th>Whiter_County</th>\n",
       "      <th>Rural_County</th>\n",
       "      <th>Undereducated_County</th>\n",
       "      <th>Turnout_Increase</th>\n",
       "    </tr>\n",
       "  </thead>\n",
       "  <tbody>\n",
       "    <tr>\n",
       "      <th>661</th>\n",
       "      <td>1</td>\n",
       "      <td>1</td>\n",
       "      <td>0</td>\n",
       "      <td>1</td>\n",
       "    </tr>\n",
       "    <tr>\n",
       "      <th>5397</th>\n",
       "      <td>0</td>\n",
       "      <td>0</td>\n",
       "      <td>0</td>\n",
       "      <td>1</td>\n",
       "    </tr>\n",
       "    <tr>\n",
       "      <th>5664</th>\n",
       "      <td>0</td>\n",
       "      <td>1</td>\n",
       "      <td>1</td>\n",
       "      <td>1</td>\n",
       "    </tr>\n",
       "    <tr>\n",
       "      <th>569</th>\n",
       "      <td>0</td>\n",
       "      <td>0</td>\n",
       "      <td>1</td>\n",
       "      <td>1</td>\n",
       "    </tr>\n",
       "    <tr>\n",
       "      <th>757</th>\n",
       "      <td>0</td>\n",
       "      <td>1</td>\n",
       "      <td>0</td>\n",
       "      <td>1</td>\n",
       "    </tr>\n",
       "    <tr>\n",
       "      <th>3717</th>\n",
       "      <td>0</td>\n",
       "      <td>0</td>\n",
       "      <td>0</td>\n",
       "      <td>1</td>\n",
       "    </tr>\n",
       "    <tr>\n",
       "      <th>5466</th>\n",
       "      <td>0</td>\n",
       "      <td>0</td>\n",
       "      <td>0</td>\n",
       "      <td>1</td>\n",
       "    </tr>\n",
       "    <tr>\n",
       "      <th>5919</th>\n",
       "      <td>0</td>\n",
       "      <td>0</td>\n",
       "      <td>0</td>\n",
       "      <td>1</td>\n",
       "    </tr>\n",
       "    <tr>\n",
       "      <th>5433</th>\n",
       "      <td>1</td>\n",
       "      <td>0</td>\n",
       "      <td>0</td>\n",
       "      <td>1</td>\n",
       "    </tr>\n",
       "    <tr>\n",
       "      <th>5316</th>\n",
       "      <td>1</td>\n",
       "      <td>1</td>\n",
       "      <td>0</td>\n",
       "      <td>1</td>\n",
       "    </tr>\n",
       "  </tbody>\n",
       "</table>\n",
       "</div>"
      ],
      "text/plain": [
       "      Whiter_County  Rural_County  Undereducated_County  Turnout_Increase\n",
       "661               1             1                     0                 1\n",
       "5397              0             0                     0                 1\n",
       "5664              0             1                     1                 1\n",
       "569               0             0                     1                 1\n",
       "757               0             1                     0                 1\n",
       "3717              0             0                     0                 1\n",
       "5466              0             0                     0                 1\n",
       "5919              0             0                     0                 1\n",
       "5433              1             0                     0                 1\n",
       "5316              1             1                     0                 1"
      ]
     },
     "execution_count": 85,
     "metadata": {},
     "output_type": "execute_result"
    }
   ],
   "source": [
    "X_train.tail(10)"
   ]
  },
  {
   "cell_type": "code",
   "execution_count": 86,
   "metadata": {
    "collapsed": false
   },
   "outputs": [
    {
     "data": {
      "text/html": [
       "<div>\n",
       "<table border=\"1\" class=\"dataframe\">\n",
       "  <thead>\n",
       "    <tr style=\"text-align: right;\">\n",
       "      <th></th>\n",
       "      <th>coefficients</th>\n",
       "      <th>features</th>\n",
       "    </tr>\n",
       "  </thead>\n",
       "  <tbody>\n",
       "    <tr>\n",
       "      <th>0</th>\n",
       "      <td>0.001519</td>\n",
       "      <td>Whiter_County</td>\n",
       "    </tr>\n",
       "    <tr>\n",
       "      <th>1</th>\n",
       "      <td>0.000949</td>\n",
       "      <td>Rural_County</td>\n",
       "    </tr>\n",
       "    <tr>\n",
       "      <th>2</th>\n",
       "      <td>0.000033</td>\n",
       "      <td>Undereducated_County</td>\n",
       "    </tr>\n",
       "    <tr>\n",
       "      <th>3</th>\n",
       "      <td>0.000909</td>\n",
       "      <td>Turnout_Increase</td>\n",
       "    </tr>\n",
       "  </tbody>\n",
       "</table>\n",
       "</div>"
      ],
      "text/plain": [
       "   coefficients              features\n",
       "0      0.001519         Whiter_County\n",
       "1      0.000949          Rural_County\n",
       "2      0.000033  Undereducated_County\n",
       "3      0.000909      Turnout_Increase"
      ]
     },
     "execution_count": 86,
     "metadata": {},
     "output_type": "execute_result"
    }
   ],
   "source": [
    "pd.DataFrame({'features': X.columns, 'coefficients': best_log.coef_[0]})"
   ]
  },
  {
   "cell_type": "code",
   "execution_count": 87,
   "metadata": {
    "collapsed": true
   },
   "outputs": [],
   "source": [
    "import matplotlib.pyplot as plt\n",
    "from sk_modelcurves.learning_curve import draw_learning_curve\n",
    "%matplotlib inline"
   ]
  },
  {
   "cell_type": "code",
   "execution_count": 88,
   "metadata": {
    "collapsed": false
   },
   "outputs": [
    {
     "data": {
      "image/png": "[encoded data removed]",
      "text/plain": [
       "<matplotlib.figure.Figure at 0x119d5b4d0>"
      ]
     },
     "metadata": {},
     "output_type": "display_data"
    }
   ],
   "source": [
    "draw_learning_curve(best_log, X_train_std, y_train, scoring='accuracy', cv=cv);"
   ]
  },
  {
   "cell_type": "markdown",
   "metadata": {},
   "source": [
    "What is interesting here is my Cross-validation score is totally flat, leaving me to believe there was entirely too much overfitting. My intition tells me that I need to then reduce down my features, or introduce some new ones as a whole replacing those which might be highly correlated with one another. "
   ]
  },
  {
   "cell_type": "code",
   "execution_count": 89,
   "metadata": {
    "collapsed": true
   },
   "outputs": [],
   "source": [
    "feature_cols = ['Whiter_County', 'Undereducated_County'] \n",
    "X = sherlock_holmes[feature_cols]\n",
    "y = sherlock_holmes['Trump_Win']"
   ]
  },
  {
   "cell_type": "code",
   "execution_count": 90,
   "metadata": {
    "collapsed": true
   },
   "outputs": [],
   "source": [
    "from sklearn.model_selection import train_test_split\n",
    "X_train, X_test, y_train, y_test = train_test_split(X, y)"
   ]
  },
  {
   "cell_type": "code",
   "execution_count": 91,
   "metadata": {
    "collapsed": true
   },
   "outputs": [],
   "source": [
    "from sklearn.model_selection import ShuffleSplit\n",
    "cv = ShuffleSplit(n_splits=4, test_size=0.2)"
   ]
  },
  {
   "cell_type": "code",
   "execution_count": 92,
   "metadata": {
    "collapsed": true
   },
   "outputs": [],
   "source": [
    "from sklearn.preprocessing import StandardScaler\n",
    "stdsc = StandardScaler()\n",
    "X_train_std = stdsc.fit_transform(X_train)\n",
    "X_test_std = stdsc.transform(X_test)"
   ]
  },
  {
   "cell_type": "code",
   "execution_count": 93,
   "metadata": {
    "collapsed": true
   },
   "outputs": [],
   "source": [
    "from sklearn.linear_model import LogisticRegression\n",
    "logreg = LogisticRegression(C=10)"
   ]
  },
  {
   "cell_type": "code",
   "execution_count": 94,
   "metadata": {
    "collapsed": false
   },
   "outputs": [
    {
     "data": {
      "text/plain": [
       "[('Whiter_County', 0.72435932156214267),\n",
       " ('Undereducated_County', 0.1581138452299648)]"
      ]
     },
     "execution_count": 94,
     "metadata": {},
     "output_type": "execute_result"
    }
   ],
   "source": [
    "logreg.fit(X_train_std, y_train)\n",
    "zip(feature_cols, logreg.coef_[0])"
   ]
  },
  {
   "cell_type": "code",
   "execution_count": 95,
   "metadata": {
    "collapsed": true
   },
   "outputs": [],
   "source": [
    "y_pred_class = logreg.predict(X_test_std)"
   ]
  },
  {
   "cell_type": "code",
   "execution_count": 96,
   "metadata": {
    "collapsed": false
   },
   "outputs": [
    {
     "name": "stdout",
     "output_type": "stream",
     "text": [
      "0.846253229974\n"
     ]
    }
   ],
   "source": [
    "from sklearn import metrics\n",
    "print metrics.accuracy_score(y_test, y_pred_class)"
   ]
  },
  {
   "cell_type": "code",
   "execution_count": 97,
   "metadata": {
    "collapsed": false
   },
   "outputs": [
    {
     "data": {
      "text/plain": [
       "GridSearchCV(cv=ShuffleSplit(n_splits=4, random_state=None, test_size=0.2, train_size=None),\n",
       "       error_score='raise',\n",
       "       estimator=LogisticRegression(C=1.0, class_weight=None, dual=False, fit_intercept=True,\n",
       "          intercept_scaling=1, max_iter=100, multi_class='ovr', n_jobs=1,\n",
       "          penalty='l2', random_state=None, solver='liblinear', tol=0.0001,\n",
       "          verbose=0, warm_start=False),\n",
       "       fit_params={}, iid=True, n_jobs=1,\n",
       "       param_grid={'C': array([  1.00000e-05,   1.01010e+03, ...,   9.89899e+04,   1.00000e+05]), 'class_weight': [None, 'balanced']},\n",
       "       pre_dispatch='2*n_jobs', refit=True, return_train_score=True,\n",
       "       scoring=None, verbose=0)"
      ]
     },
     "execution_count": 97,
     "metadata": {},
     "output_type": "execute_result"
    }
   ],
   "source": [
    "from sklearn.model_selection import GridSearchCV\n",
    "parameters = {'C': np.linspace(1e-5, 1e5, 100), 'class_weight': [None, 'balanced']}\n",
    "logreg2 = LogisticRegression()           \n",
    "clf = GridSearchCV(logreg2, parameters, cv=cv)\n",
    "clf.fit(X_train_std, y_train)"
   ]
  },
  {
   "cell_type": "code",
   "execution_count": 98,
   "metadata": {
    "collapsed": false
   },
   "outputs": [
    {
     "data": {
      "text/plain": [
       "{'C': 1.0000000000000001e-05, 'class_weight': None}"
      ]
     },
     "execution_count": 98,
     "metadata": {},
     "output_type": "execute_result"
    }
   ],
   "source": [
    "clf.best_params_"
   ]
  },
  {
   "cell_type": "code",
   "execution_count": 99,
   "metadata": {
    "collapsed": false
   },
   "outputs": [
    {
     "data": {
      "text/plain": [
       "0.8399784482758621"
      ]
     },
     "execution_count": 99,
     "metadata": {},
     "output_type": "execute_result"
    }
   ],
   "source": [
    "clf.best_score_"
   ]
  },
  {
   "cell_type": "code",
   "execution_count": 100,
   "metadata": {
    "collapsed": true
   },
   "outputs": [],
   "source": [
    "best_log = clf.best_estimator_"
   ]
  },
  {
   "cell_type": "code",
   "execution_count": 101,
   "metadata": {
    "collapsed": false
   },
   "outputs": [
    {
     "data": {
      "text/plain": [
       "0.84625322997416019"
      ]
     },
     "execution_count": 101,
     "metadata": {},
     "output_type": "execute_result"
    }
   ],
   "source": [
    "best_log.score(X_test_std, y_test)"
   ]
  },
  {
   "cell_type": "code",
   "execution_count": 102,
   "metadata": {
    "collapsed": false
   },
   "outputs": [
    {
     "data": {
      "text/html": [
       "<div>\n",
       "<table border=\"1\" class=\"dataframe\">\n",
       "  <thead>\n",
       "    <tr style=\"text-align: right;\">\n",
       "      <th></th>\n",
       "      <th>Whiter_County</th>\n",
       "      <th>Undereducated_County</th>\n",
       "    </tr>\n",
       "  </thead>\n",
       "  <tbody>\n",
       "    <tr>\n",
       "      <th>6873</th>\n",
       "      <td>0</td>\n",
       "      <td>0</td>\n",
       "    </tr>\n",
       "    <tr>\n",
       "      <th>8116</th>\n",
       "      <td>1</td>\n",
       "      <td>0</td>\n",
       "    </tr>\n",
       "    <tr>\n",
       "      <th>8999</th>\n",
       "      <td>0</td>\n",
       "      <td>1</td>\n",
       "    </tr>\n",
       "    <tr>\n",
       "      <th>6132</th>\n",
       "      <td>1</td>\n",
       "      <td>0</td>\n",
       "    </tr>\n",
       "    <tr>\n",
       "      <th>3263</th>\n",
       "      <td>0</td>\n",
       "      <td>1</td>\n",
       "    </tr>\n",
       "    <tr>\n",
       "      <th>6774</th>\n",
       "      <td>0</td>\n",
       "      <td>1</td>\n",
       "    </tr>\n",
       "    <tr>\n",
       "      <th>3642</th>\n",
       "      <td>1</td>\n",
       "      <td>1</td>\n",
       "    </tr>\n",
       "    <tr>\n",
       "      <th>5829</th>\n",
       "      <td>1</td>\n",
       "      <td>0</td>\n",
       "    </tr>\n",
       "    <tr>\n",
       "      <th>587</th>\n",
       "      <td>0</td>\n",
       "      <td>0</td>\n",
       "    </tr>\n",
       "    <tr>\n",
       "      <th>5103</th>\n",
       "      <td>0</td>\n",
       "      <td>0</td>\n",
       "    </tr>\n",
       "  </tbody>\n",
       "</table>\n",
       "</div>"
      ],
      "text/plain": [
       "      Whiter_County  Undereducated_County\n",
       "6873              0                     0\n",
       "8116              1                     0\n",
       "8999              0                     1\n",
       "6132              1                     0\n",
       "3263              0                     1\n",
       "6774              0                     1\n",
       "3642              1                     1\n",
       "5829              1                     0\n",
       "587               0                     0\n",
       "5103              0                     0"
      ]
     },
     "execution_count": 102,
     "metadata": {},
     "output_type": "execute_result"
    }
   ],
   "source": [
    "X_train.tail(10)"
   ]
  },
  {
   "cell_type": "code",
   "execution_count": 103,
   "metadata": {
    "collapsed": false
   },
   "outputs": [
    {
     "data": {
      "text/html": [
       "<div>\n",
       "<table border=\"1\" class=\"dataframe\">\n",
       "  <thead>\n",
       "    <tr style=\"text-align: right;\">\n",
       "      <th></th>\n",
       "      <th>coefficients</th>\n",
       "      <th>features</th>\n",
       "    </tr>\n",
       "  </thead>\n",
       "  <tbody>\n",
       "    <tr>\n",
       "      <th>0</th>\n",
       "      <td>0.001434</td>\n",
       "      <td>Whiter_County</td>\n",
       "    </tr>\n",
       "    <tr>\n",
       "      <th>1</th>\n",
       "      <td>0.000226</td>\n",
       "      <td>Undereducated_County</td>\n",
       "    </tr>\n",
       "  </tbody>\n",
       "</table>\n",
       "</div>"
      ],
      "text/plain": [
       "   coefficients              features\n",
       "0      0.001434         Whiter_County\n",
       "1      0.000226  Undereducated_County"
      ]
     },
     "execution_count": 103,
     "metadata": {},
     "output_type": "execute_result"
    }
   ],
   "source": [
    "pd.DataFrame({'features': X.columns, 'coefficients': best_log.coef_[0]})"
   ]
  },
  {
   "cell_type": "code",
   "execution_count": 104,
   "metadata": {
    "collapsed": true
   },
   "outputs": [],
   "source": [
    "import matplotlib.pyplot as plt\n",
    "from sk_modelcurves.learning_curve import draw_learning_curve\n",
    "%matplotlib inline"
   ]
  },
  {
   "cell_type": "code",
   "execution_count": 105,
   "metadata": {
    "collapsed": false
   },
   "outputs": [
    {
     "data": {
      "image/png": "[encoded data removed]",
      "text/plain": [
       "<matplotlib.figure.Figure at 0x1194f3a90>"
      ]
     },
     "metadata": {},
     "output_type": "display_data"
    }
   ],
   "source": [
    "draw_learning_curve(best_log, X_train_std, y_train, scoring='accuracy', cv=cv);"
   ]
  },
  {
   "cell_type": "markdown",
   "metadata": {},
   "source": [
    "Similar issue here, even with a feature reduction. Now, I will try to reduce it to just one feature. "
   ]
  },
  {
   "cell_type": "code",
   "execution_count": 157,
   "metadata": {
    "collapsed": true
   },
   "outputs": [],
   "source": [
    "feature_cols = ['Turnout_Increase'] \n",
    "X = sherlock_holmes[feature_cols]\n",
    "y = sherlock_holmes['Trump_Win']"
   ]
  },
  {
   "cell_type": "code",
   "execution_count": 158,
   "metadata": {
    "collapsed": true
   },
   "outputs": [],
   "source": [
    "from sklearn.model_selection import train_test_split\n",
    "X_train, X_test, y_train, y_test = train_test_split(X, y)"
   ]
  },
  {
   "cell_type": "code",
   "execution_count": 159,
   "metadata": {
    "collapsed": true
   },
   "outputs": [],
   "source": [
    "from sklearn.model_selection import ShuffleSplit\n",
    "cv = ShuffleSplit(n_splits=4, test_size=0.2)"
   ]
  },
  {
   "cell_type": "code",
   "execution_count": 160,
   "metadata": {
    "collapsed": true
   },
   "outputs": [],
   "source": [
    "from sklearn.preprocessing import StandardScaler\n",
    "stdsc = StandardScaler()\n",
    "X_train_std = stdsc.fit_transform(X_train)\n",
    "X_test_std = stdsc.transform(X_test)"
   ]
  },
  {
   "cell_type": "code",
   "execution_count": 161,
   "metadata": {
    "collapsed": true
   },
   "outputs": [],
   "source": [
    "from sklearn.linear_model import LogisticRegression\n",
    "logreg = LogisticRegression(C=10)"
   ]
  },
  {
   "cell_type": "code",
   "execution_count": 162,
   "metadata": {
    "collapsed": false
   },
   "outputs": [
    {
     "data": {
      "text/plain": [
       "[('Turnout_Increase', 0.33828151073597368)]"
      ]
     },
     "execution_count": 162,
     "metadata": {},
     "output_type": "execute_result"
    }
   ],
   "source": [
    "logreg.fit(X_train_std, y_train)\n",
    "zip(feature_cols, logreg.coef_[0])"
   ]
  },
  {
   "cell_type": "code",
   "execution_count": 163,
   "metadata": {
    "collapsed": true
   },
   "outputs": [],
   "source": [
    "y_pred_class = logreg.predict(X_test_std)"
   ]
  },
  {
   "cell_type": "code",
   "execution_count": 164,
   "metadata": {
    "collapsed": false
   },
   "outputs": [
    {
     "name": "stdout",
     "output_type": "stream",
     "text": [
      "0.830749354005\n"
     ]
    }
   ],
   "source": [
    "from sklearn import metrics\n",
    "print metrics.accuracy_score(y_test, y_pred_class)"
   ]
  },
  {
   "cell_type": "code",
   "execution_count": 165,
   "metadata": {
    "collapsed": false
   },
   "outputs": [
    {
     "data": {
      "text/plain": [
       "GridSearchCV(cv=ShuffleSplit(n_splits=4, random_state=None, test_size=0.2, train_size=None),\n",
       "       error_score='raise',\n",
       "       estimator=LogisticRegression(C=1.0, class_weight=None, dual=False, fit_intercept=True,\n",
       "          intercept_scaling=1, max_iter=100, multi_class='ovr', n_jobs=1,\n",
       "          penalty='l2', random_state=None, solver='liblinear', tol=0.0001,\n",
       "          verbose=0, warm_start=False),\n",
       "       fit_params={}, iid=True, n_jobs=1,\n",
       "       param_grid={'C': array([  1.00000e-05,   1.01010e+03, ...,   9.89899e+04,   1.00000e+05]), 'class_weight': [None, 'balanced']},\n",
       "       pre_dispatch='2*n_jobs', refit=True, return_train_score=True,\n",
       "       scoring=None, verbose=0)"
      ]
     },
     "execution_count": 165,
     "metadata": {},
     "output_type": "execute_result"
    }
   ],
   "source": [
    "from sklearn.model_selection import GridSearchCV\n",
    "parameters = {'C': np.linspace(1e-5, 1e5, 100), 'class_weight': [None, 'balanced']}\n",
    "logreg2 = LogisticRegression()           \n",
    "clf = GridSearchCV(logreg2, parameters, cv=cv)\n",
    "clf.fit(X_train_std, y_train)"
   ]
  },
  {
   "cell_type": "code",
   "execution_count": 166,
   "metadata": {
    "collapsed": false
   },
   "outputs": [
    {
     "data": {
      "text/plain": [
       "{'C': 1.0000000000000001e-05, 'class_weight': None}"
      ]
     },
     "execution_count": 166,
     "metadata": {},
     "output_type": "execute_result"
    }
   ],
   "source": [
    "clf.best_params_"
   ]
  },
  {
   "cell_type": "code",
   "execution_count": 167,
   "metadata": {
    "collapsed": false
   },
   "outputs": [
    {
     "data": {
      "text/plain": [
       "0.86045258620689657"
      ]
     },
     "execution_count": 167,
     "metadata": {},
     "output_type": "execute_result"
    }
   ],
   "source": [
    "clf.best_score_"
   ]
  },
  {
   "cell_type": "code",
   "execution_count": 168,
   "metadata": {
    "collapsed": true
   },
   "outputs": [],
   "source": [
    "best_log = clf.best_estimator_"
   ]
  },
  {
   "cell_type": "code",
   "execution_count": 169,
   "metadata": {
    "collapsed": false
   },
   "outputs": [
    {
     "data": {
      "text/plain": [
       "0.83074935400516792"
      ]
     },
     "execution_count": 169,
     "metadata": {},
     "output_type": "execute_result"
    }
   ],
   "source": [
    "best_log.score(X_test_std, y_test)"
   ]
  },
  {
   "cell_type": "code",
   "execution_count": 170,
   "metadata": {
    "collapsed": false
   },
   "outputs": [
    {
     "data": {
      "text/html": [
       "<div>\n",
       "<table border=\"1\" class=\"dataframe\">\n",
       "  <thead>\n",
       "    <tr style=\"text-align: right;\">\n",
       "      <th></th>\n",
       "      <th>Turnout_Increase</th>\n",
       "    </tr>\n",
       "  </thead>\n",
       "  <tbody>\n",
       "    <tr>\n",
       "      <th>3948</th>\n",
       "      <td>0</td>\n",
       "    </tr>\n",
       "    <tr>\n",
       "      <th>6672</th>\n",
       "      <td>1</td>\n",
       "    </tr>\n",
       "    <tr>\n",
       "      <th>3867</th>\n",
       "      <td>1</td>\n",
       "    </tr>\n",
       "    <tr>\n",
       "      <th>8367</th>\n",
       "      <td>0</td>\n",
       "    </tr>\n",
       "    <tr>\n",
       "      <th>6789</th>\n",
       "      <td>1</td>\n",
       "    </tr>\n",
       "    <tr>\n",
       "      <th>4887</th>\n",
       "      <td>1</td>\n",
       "    </tr>\n",
       "    <tr>\n",
       "      <th>549</th>\n",
       "      <td>1</td>\n",
       "    </tr>\n",
       "    <tr>\n",
       "      <th>1789</th>\n",
       "      <td>0</td>\n",
       "    </tr>\n",
       "    <tr>\n",
       "      <th>287</th>\n",
       "      <td>1</td>\n",
       "    </tr>\n",
       "    <tr>\n",
       "      <th>1957</th>\n",
       "      <td>0</td>\n",
       "    </tr>\n",
       "  </tbody>\n",
       "</table>\n",
       "</div>"
      ],
      "text/plain": [
       "      Turnout_Increase\n",
       "3948                 0\n",
       "6672                 1\n",
       "3867                 1\n",
       "8367                 0\n",
       "6789                 1\n",
       "4887                 1\n",
       "549                  1\n",
       "1789                 0\n",
       "287                  1\n",
       "1957                 0"
      ]
     },
     "execution_count": 170,
     "metadata": {},
     "output_type": "execute_result"
    }
   ],
   "source": [
    "X_train.tail(10)"
   ]
  },
  {
   "cell_type": "code",
   "execution_count": 171,
   "metadata": {
    "collapsed": false
   },
   "outputs": [
    {
     "data": {
      "text/html": [
       "<div>\n",
       "<table border=\"1\" class=\"dataframe\">\n",
       "  <thead>\n",
       "    <tr style=\"text-align: right;\">\n",
       "      <th></th>\n",
       "      <th>coefficients</th>\n",
       "      <th>features</th>\n",
       "    </tr>\n",
       "  </thead>\n",
       "  <tbody>\n",
       "    <tr>\n",
       "      <th>0</th>\n",
       "      <td>0.001038</td>\n",
       "      <td>Turnout_Increase</td>\n",
       "    </tr>\n",
       "  </tbody>\n",
       "</table>\n",
       "</div>"
      ],
      "text/plain": [
       "   coefficients          features\n",
       "0      0.001038  Turnout_Increase"
      ]
     },
     "execution_count": 171,
     "metadata": {},
     "output_type": "execute_result"
    }
   ],
   "source": [
    "pd.DataFrame({'features': X.columns, 'coefficients': best_log.coef_[0]})"
   ]
  },
  {
   "cell_type": "code",
   "execution_count": 172,
   "metadata": {
    "collapsed": true
   },
   "outputs": [],
   "source": [
    "import matplotlib.pyplot as plt\n",
    "from sk_modelcurves.learning_curve import draw_learning_curve\n",
    "%matplotlib inline"
   ]
  },
  {
   "cell_type": "code",
   "execution_count": 173,
   "metadata": {
    "collapsed": false
   },
   "outputs": [
    {
     "data": {
      "image/png": "[encoded data removed]",
      "text/plain": [
       "<matplotlib.figure.Figure at 0x119b0d650>"
      ]
     },
     "metadata": {},
     "output_type": "display_data"
    }
   ],
   "source": [
    "draw_learning_curve(best_log, X_train_std, y_train, scoring='accuracy', cv=cv);"
   ]
  },
  {
   "cell_type": "markdown",
   "metadata": {},
   "source": [
    "My thinking here is I am overfitting on the cross-validation level if it continues to remain flat, which it has given the number of iterations I've thrown at the model. The possibility here is that there is a likelihood the logistic regression model may not be the best fit here because of how correlated some of these features might be here. \n",
    "\n",
    "Let's try a random forest model which might, hopefully, help reduce the overfitting that seems to be prone to the logistic regression model.  "
   ]
  },
  {
   "cell_type": "code",
   "execution_count": 180,
   "metadata": {
    "collapsed": false
   },
   "outputs": [],
   "source": [
    "from sklearn.tree import DecisionTreeClassifier\n",
    "\n",
    "model = DecisionTreeClassifier()\n",
    "\n",
    "X = sherlock_holmes[['Huge_Price_Swing', 'Obama_Win', 'Trump_Win', 'Whiter_County', 'Educated_County', 'Turnout_Increase']].dropna()\n",
    "y = X['Trump_Win']\n",
    "X.drop('Trump_Win', axis=1, inplace=True)\n",
    "    \n",
    "model.fit(X, y)\n",
    "\n",
    "from sklearn.tree import export_graphviz\n",
    "from os import system \n",
    "def build_tree_image(model):\n",
    "    dotfile = open(\"tree.dot\", 'w')\n",
    "    export_graphviz(model,\n",
    "                              out_file = dotfile,\n",
    "                              feature_names = X.columns)\n",
    "    dotfile.close()\n",
    "    system(\"dot -Tpng tree.dot -o tree.png\")\n",
    "    \n",
    "build_tree_image(model)"
   ]
  },
  {
   "cell_type": "code",
   "execution_count": 181,
   "metadata": {
    "collapsed": false
   },
   "outputs": [
    {
     "name": "stdout",
     "output_type": "stream",
     "text": [
      "CV AUC [ 0.93765843  0.97841413  0.98408316  0.9787234   0.93324671  0.98420497\n",
      "  0.94688972  0.97178009  0.9874127   0.86677765], Average AUC 0.956919096202\n"
     ]
    }
   ],
   "source": [
    "from sklearn.model_selection import cross_val_score\n",
    "\n",
    "scores = cross_val_score(model, X, y, scoring='roc_auc', cv=10)\n",
    "print('CV AUC {}, Average AUC {}'.format(scores, scores.mean()))"
   ]
  },
  {
   "cell_type": "code",
   "execution_count": 182,
   "metadata": {
    "collapsed": true
   },
   "outputs": [],
   "source": [
    "model = DecisionTreeClassifier(\n",
    "                max_depth = 4,\n",
    "                min_samples_leaf = 10)\n",
    "\n",
    "model.fit(X, y)\n",
    "build_tree_image(model)"
   ]
  },
  {
   "cell_type": "code",
   "execution_count": 183,
   "metadata": {
    "collapsed": false
   },
   "outputs": [
    {
     "data": {
      "text/plain": [
       "RandomForestClassifier(bootstrap=True, class_weight=None, criterion='gini',\n",
       "            max_depth=None, max_features='auto', max_leaf_nodes=None,\n",
       "            min_impurity_split=1e-07, min_samples_leaf=1,\n",
       "            min_samples_split=2, min_weight_fraction_leaf=0.0,\n",
       "            n_estimators=20, n_jobs=1, oob_score=False, random_state=None,\n",
       "            verbose=0, warm_start=False)"
      ]
     },
     "execution_count": 183,
     "metadata": {},
     "output_type": "execute_result"
    }
   ],
   "source": [
    "from sklearn.ensemble import RandomForestClassifier\n",
    "\n",
    "model = RandomForestClassifier(n_estimators = 20)\n",
    "    \n",
    "model.fit(X, y)"
   ]
  },
  {
   "cell_type": "code",
   "execution_count": 184,
   "metadata": {
    "collapsed": false
   },
   "outputs": [
    {
     "data": {
      "text/html": [
       "<div>\n",
       "<table border=\"1\" class=\"dataframe\">\n",
       "  <thead>\n",
       "    <tr style=\"text-align: right;\">\n",
       "      <th></th>\n",
       "      <th>Features</th>\n",
       "      <th>Importance Score</th>\n",
       "    </tr>\n",
       "  </thead>\n",
       "  <tbody>\n",
       "    <tr>\n",
       "      <th>1</th>\n",
       "      <td>Obama_Win</td>\n",
       "      <td>0.815060</td>\n",
       "    </tr>\n",
       "    <tr>\n",
       "      <th>3</th>\n",
       "      <td>Educated_County</td>\n",
       "      <td>0.114795</td>\n",
       "    </tr>\n",
       "    <tr>\n",
       "      <th>2</th>\n",
       "      <td>Whiter_County</td>\n",
       "      <td>0.033616</td>\n",
       "    </tr>\n",
       "    <tr>\n",
       "      <th>4</th>\n",
       "      <td>Turnout_Increase</td>\n",
       "      <td>0.019695</td>\n",
       "    </tr>\n",
       "    <tr>\n",
       "      <th>0</th>\n",
       "      <td>Huge_Price_Swing</td>\n",
       "      <td>0.016834</td>\n",
       "    </tr>\n",
       "  </tbody>\n",
       "</table>\n",
       "</div>"
      ],
      "text/plain": [
       "           Features  Importance Score\n",
       "1         Obama_Win          0.815060\n",
       "3   Educated_County          0.114795\n",
       "2     Whiter_County          0.033616\n",
       "4  Turnout_Increase          0.019695\n",
       "0  Huge_Price_Swing          0.016834"
      ]
     },
     "execution_count": 184,
     "metadata": {},
     "output_type": "execute_result"
    }
   ],
   "source": [
    "features = X.columns\n",
    "feature_importances = model.feature_importances_\n",
    "\n",
    "features_df = pd.DataFrame({'Features': features, 'Importance Score': feature_importances})\n",
    "features_df.sort_values('Importance Score', inplace=True, ascending=False)\n",
    "\n",
    "features_df.head(10)"
   ]
  },
  {
   "cell_type": "markdown",
   "metadata": {},
   "source": [
    "Unsurprisingly, it looks like the `Obama_Win` feature, again, is a strong indicator of a `Trump_Win`. Let's pretend we are now not looking at whether Obama won the county, and whether knowing, as the Hillary Clinton campaign might've expected, a huge ACA on marketplace price swing and an increase in turnout for what they all dubbed an historic election. Specifically here, let's see if the random forest can learn a county that Trump will end up flipping from Obama to himself, causing Clinton a loss of counties and potentially, the election."
   ]
  },
  {
   "cell_type": "code",
   "execution_count": 185,
   "metadata": {
    "collapsed": true
   },
   "outputs": [],
   "source": [
    "from sklearn.tree import DecisionTreeClassifier\n",
    "\n",
    "model = DecisionTreeClassifier()\n",
    "\n",
    "X = sherlock_holmes[['Huge_Price_Swing', 'Trump_Flip', 'Turnout_Increase']].dropna()\n",
    "y = X['Trump_Flip']\n",
    "X.drop('Trump_Flip', axis=1, inplace=True)\n",
    "    \n",
    "model.fit(X, y)\n",
    "\n",
    "from sklearn.tree import export_graphviz\n",
    "from os import system \n",
    "def build_tree_image(model):\n",
    "    dotfile = open(\"tree.dot\", 'w')\n",
    "    export_graphviz(model,\n",
    "                              out_file = dotfile,\n",
    "                              feature_names = X.columns)\n",
    "    dotfile.close()\n",
    "    system(\"dot -Tpng tree.dot -o tree.png\")\n",
    "    \n",
    "build_tree_image(model)"
   ]
  },
  {
   "cell_type": "code",
   "execution_count": 186,
   "metadata": {
    "collapsed": false
   },
   "outputs": [
    {
     "name": "stdout",
     "output_type": "stream",
     "text": [
      "CV AUC [ 0.64520202  0.70075758  0.6740846   0.4397096   0.51515152  0.66587753\n",
      "  0.52929997  0.65790307  0.73394724  0.71428571], Average AUC 0.627621882086\n"
     ]
    }
   ],
   "source": [
    "from sklearn.model_selection import cross_val_score\n",
    "\n",
    "scores = cross_val_score(model, X, y, scoring='roc_auc', cv=10)\n",
    "print('CV AUC {}, Average AUC {}'.format(scores, scores.mean()))"
   ]
  },
  {
   "cell_type": "code",
   "execution_count": 187,
   "metadata": {
    "collapsed": true
   },
   "outputs": [],
   "source": [
    "model = DecisionTreeClassifier(\n",
    "                max_depth = 4,\n",
    "                min_samples_leaf = 10)\n",
    "\n",
    "model.fit(X, y)\n",
    "build_tree_image(model)"
   ]
  },
  {
   "cell_type": "code",
   "execution_count": 188,
   "metadata": {
    "collapsed": false
   },
   "outputs": [
    {
     "data": {
      "text/plain": [
       "RandomForestClassifier(bootstrap=True, class_weight=None, criterion='gini',\n",
       "            max_depth=None, max_features='auto', max_leaf_nodes=None,\n",
       "            min_impurity_split=1e-07, min_samples_leaf=1,\n",
       "            min_samples_split=2, min_weight_fraction_leaf=0.0,\n",
       "            n_estimators=20, n_jobs=1, oob_score=False, random_state=None,\n",
       "            verbose=0, warm_start=False)"
      ]
     },
     "execution_count": 188,
     "metadata": {},
     "output_type": "execute_result"
    }
   ],
   "source": [
    "from sklearn.ensemble import RandomForestClassifier\n",
    "\n",
    "model = RandomForestClassifier(n_estimators = 20)\n",
    "    \n",
    "model.fit(X, y)"
   ]
  },
  {
   "cell_type": "code",
   "execution_count": 189,
   "metadata": {
    "collapsed": false
   },
   "outputs": [
    {
     "data": {
      "text/html": [
       "<div>\n",
       "<table border=\"1\" class=\"dataframe\">\n",
       "  <thead>\n",
       "    <tr style=\"text-align: right;\">\n",
       "      <th></th>\n",
       "      <th>Features</th>\n",
       "      <th>Importance Score</th>\n",
       "    </tr>\n",
       "  </thead>\n",
       "  <tbody>\n",
       "    <tr>\n",
       "      <th>1</th>\n",
       "      <td>Turnout_Increase</td>\n",
       "      <td>0.959275</td>\n",
       "    </tr>\n",
       "    <tr>\n",
       "      <th>0</th>\n",
       "      <td>Huge_Price_Swing</td>\n",
       "      <td>0.040725</td>\n",
       "    </tr>\n",
       "  </tbody>\n",
       "</table>\n",
       "</div>"
      ],
      "text/plain": [
       "           Features  Importance Score\n",
       "1  Turnout_Increase          0.959275\n",
       "0  Huge_Price_Swing          0.040725"
      ]
     },
     "execution_count": 189,
     "metadata": {},
     "output_type": "execute_result"
    }
   ],
   "source": [
    "features = X.columns\n",
    "feature_importances = model.feature_importances_\n",
    "\n",
    "features_df = pd.DataFrame({'Features': features, 'Importance Score': feature_importances})\n",
    "features_df.sort_values('Importance Score', inplace=True, ascending=False)\n",
    "\n",
    "features_df.head(10)"
   ]
  },
  {
   "cell_type": "markdown",
   "metadata": {},
   "source": [
    "And again, `Huge_Price_Swing` still does not appear to have a strong level of importance for a county's outcome."
   ]
  },
  {
   "cell_type": "markdown",
   "metadata": {},
   "source": [
    "And as it turns out, as it were, a turnout increase does not seem to have helped the Clinton campaign, though the intuition during the election was that an increase in turnout would actually help the Clinton campaign, and that Trump was looking to suppress the vote. Perhaps there is a bit more to the story here? \n",
    "\n",
    "Looking at the correlated file, the `Huge_Price_Swing` and `Turnout_Increase` had a score of 0.020746 -- this is quite low. \n",
    "\n",
    "My intuition and my work here suggests there truly is no easy, clear-cut analysis of the election with respect to counties that Trump could flip, did flip, did win, and/or Hillary will lose. Some of it is a function of my analysis as a whole, though future features I would like to incorporate is some work around predicting the winning and losing percentage of each candidate, with some more fine-tuned feature engineering. Or perhaps as Nate Silver himself might caution: politics is a game of probability. Maybe it really is just a coin toss. "
   ]
  },
  {
   "cell_type": "code",
   "execution_count": null,
   "metadata": {
    "collapsed": true
   },
   "outputs": [],
   "source": []
  }
 ],
 "metadata": {
  "kernelspec": {
   "display_name": "Python [conda root]",
   "language": "python",
   "name": "conda-root-py"
  },
  "language_info": {
   "codemirror_mode": {
    "name": "ipython",
    "version": 2
   },
   "file_extension": ".py",
   "mimetype": "text/x-python",
   "name": "python",
   "nbconvert_exporter": "python",
   "pygments_lexer": "ipython2",
   "version": "2.7.12"
  }
 },
 "nbformat": 4,
 "nbformat_minor": 1
}
